{
 "cells": [
  {
   "cell_type": "markdown",
   "metadata": {},
   "source": [
    "# Explorative Data Analsyses\n",
    "\n",
    "\n",
    "The purpose of this EDA is to find at least 3 insights about the overall-data and 3 recommendations to a Fake-Stakeholder . \n",
    "\n",
    "Notification:\n",
    "This is the very first data analysis I do on my own and I make a few unproven assumption to fulfil the requirements of the stakeholder.\n",
    "\n",
    "## Dataset \n",
    "This dataset contains information about home sales in King County (USA).\n",
    "\n",
    "## The Stakeholder \n",
    "\n",
    "The Stakeholder is a Buyer, who looks for an object in the real estate industry of King County (USA). The Requirements are:\n",
    "- lively and central neighborhood\n",
    "- middle price range\n",
    "- right timing (within a year)\n"
   ]
  },
  {
   "cell_type": "markdown",
   "metadata": {},
   "source": [
    "#### Preparation\n",
    "For the preparations lets first import the necessary libraries and load the files needed for the EDA and load the the data to a pandas Dataframe."
   ]
  },
  {
   "cell_type": "code",
   "execution_count": 16,
   "metadata": {},
   "outputs": [],
   "source": [
    "# Import libraries\n",
    "import pandas as pd\n",
    "import numpy as np\n",
    "\n",
    "# Plotting library\n",
    "import seaborn as sns\n",
    "import matplotlib.pyplot as plt\n",
    "# Spatial Plotting\n",
    "import plotly.graph_objects as go\n",
    "import plotly.express as px\n"
   ]
  },
  {
   "cell_type": "code",
   "execution_count": 3,
   "metadata": {},
   "outputs": [
    {
     "name": "stdout",
     "output_type": "stream",
     "text": [
      "(21597, 21)\n"
     ]
    },
    {
     "data": {
      "text/html": [
       "<div>\n",
       "<style scoped>\n",
       "    .dataframe tbody tr th:only-of-type {\n",
       "        vertical-align: middle;\n",
       "    }\n",
       "\n",
       "    .dataframe tbody tr th {\n",
       "        vertical-align: top;\n",
       "    }\n",
       "\n",
       "    .dataframe thead th {\n",
       "        text-align: right;\n",
       "    }\n",
       "</style>\n",
       "<table border=\"1\" class=\"dataframe\">\n",
       "  <thead>\n",
       "    <tr style=\"text-align: right;\">\n",
       "      <th></th>\n",
       "      <th>id</th>\n",
       "      <th>date</th>\n",
       "      <th>price</th>\n",
       "      <th>bedrooms</th>\n",
       "      <th>bathrooms</th>\n",
       "      <th>sqft_living</th>\n",
       "      <th>sqft_lot</th>\n",
       "      <th>floors</th>\n",
       "      <th>waterfront</th>\n",
       "      <th>view</th>\n",
       "      <th>...</th>\n",
       "      <th>grade</th>\n",
       "      <th>sqft_above</th>\n",
       "      <th>sqft_basement</th>\n",
       "      <th>yr_built</th>\n",
       "      <th>yr_renovated</th>\n",
       "      <th>zipcode</th>\n",
       "      <th>lat</th>\n",
       "      <th>long</th>\n",
       "      <th>sqft_living15</th>\n",
       "      <th>sqft_lot15</th>\n",
       "    </tr>\n",
       "  </thead>\n",
       "  <tbody>\n",
       "    <tr>\n",
       "      <th>0</th>\n",
       "      <td>7129300520</td>\n",
       "      <td>10/13/2014</td>\n",
       "      <td>221900.0</td>\n",
       "      <td>3</td>\n",
       "      <td>1.00</td>\n",
       "      <td>1180</td>\n",
       "      <td>5650</td>\n",
       "      <td>1.0</td>\n",
       "      <td>NaN</td>\n",
       "      <td>0.0</td>\n",
       "      <td>...</td>\n",
       "      <td>7</td>\n",
       "      <td>1180</td>\n",
       "      <td>0.0</td>\n",
       "      <td>1955</td>\n",
       "      <td>0.0</td>\n",
       "      <td>98178</td>\n",
       "      <td>47.5112</td>\n",
       "      <td>-122.257</td>\n",
       "      <td>1340</td>\n",
       "      <td>5650</td>\n",
       "    </tr>\n",
       "    <tr>\n",
       "      <th>1</th>\n",
       "      <td>6414100192</td>\n",
       "      <td>12/9/2014</td>\n",
       "      <td>538000.0</td>\n",
       "      <td>3</td>\n",
       "      <td>2.25</td>\n",
       "      <td>2570</td>\n",
       "      <td>7242</td>\n",
       "      <td>2.0</td>\n",
       "      <td>0.0</td>\n",
       "      <td>0.0</td>\n",
       "      <td>...</td>\n",
       "      <td>7</td>\n",
       "      <td>2170</td>\n",
       "      <td>400.0</td>\n",
       "      <td>1951</td>\n",
       "      <td>1991.0</td>\n",
       "      <td>98125</td>\n",
       "      <td>47.7210</td>\n",
       "      <td>-122.319</td>\n",
       "      <td>1690</td>\n",
       "      <td>7639</td>\n",
       "    </tr>\n",
       "    <tr>\n",
       "      <th>2</th>\n",
       "      <td>5631500400</td>\n",
       "      <td>2/25/2015</td>\n",
       "      <td>180000.0</td>\n",
       "      <td>2</td>\n",
       "      <td>1.00</td>\n",
       "      <td>770</td>\n",
       "      <td>10000</td>\n",
       "      <td>1.0</td>\n",
       "      <td>0.0</td>\n",
       "      <td>0.0</td>\n",
       "      <td>...</td>\n",
       "      <td>6</td>\n",
       "      <td>770</td>\n",
       "      <td>0.0</td>\n",
       "      <td>1933</td>\n",
       "      <td>NaN</td>\n",
       "      <td>98028</td>\n",
       "      <td>47.7379</td>\n",
       "      <td>-122.233</td>\n",
       "      <td>2720</td>\n",
       "      <td>8062</td>\n",
       "    </tr>\n",
       "    <tr>\n",
       "      <th>3</th>\n",
       "      <td>2487200875</td>\n",
       "      <td>12/9/2014</td>\n",
       "      <td>604000.0</td>\n",
       "      <td>4</td>\n",
       "      <td>3.00</td>\n",
       "      <td>1960</td>\n",
       "      <td>5000</td>\n",
       "      <td>1.0</td>\n",
       "      <td>0.0</td>\n",
       "      <td>0.0</td>\n",
       "      <td>...</td>\n",
       "      <td>7</td>\n",
       "      <td>1050</td>\n",
       "      <td>910.0</td>\n",
       "      <td>1965</td>\n",
       "      <td>0.0</td>\n",
       "      <td>98136</td>\n",
       "      <td>47.5208</td>\n",
       "      <td>-122.393</td>\n",
       "      <td>1360</td>\n",
       "      <td>5000</td>\n",
       "    </tr>\n",
       "    <tr>\n",
       "      <th>4</th>\n",
       "      <td>1954400510</td>\n",
       "      <td>2/18/2015</td>\n",
       "      <td>510000.0</td>\n",
       "      <td>3</td>\n",
       "      <td>2.00</td>\n",
       "      <td>1680</td>\n",
       "      <td>8080</td>\n",
       "      <td>1.0</td>\n",
       "      <td>0.0</td>\n",
       "      <td>0.0</td>\n",
       "      <td>...</td>\n",
       "      <td>8</td>\n",
       "      <td>1680</td>\n",
       "      <td>0.0</td>\n",
       "      <td>1987</td>\n",
       "      <td>0.0</td>\n",
       "      <td>98074</td>\n",
       "      <td>47.6168</td>\n",
       "      <td>-122.045</td>\n",
       "      <td>1800</td>\n",
       "      <td>7503</td>\n",
       "    </tr>\n",
       "    <tr>\n",
       "      <th>5</th>\n",
       "      <td>7237550310</td>\n",
       "      <td>5/12/2014</td>\n",
       "      <td>1230000.0</td>\n",
       "      <td>4</td>\n",
       "      <td>4.50</td>\n",
       "      <td>5420</td>\n",
       "      <td>101930</td>\n",
       "      <td>1.0</td>\n",
       "      <td>0.0</td>\n",
       "      <td>0.0</td>\n",
       "      <td>...</td>\n",
       "      <td>11</td>\n",
       "      <td>3890</td>\n",
       "      <td>1530.0</td>\n",
       "      <td>2001</td>\n",
       "      <td>0.0</td>\n",
       "      <td>98053</td>\n",
       "      <td>47.6561</td>\n",
       "      <td>-122.005</td>\n",
       "      <td>4760</td>\n",
       "      <td>101930</td>\n",
       "    </tr>\n",
       "    <tr>\n",
       "      <th>6</th>\n",
       "      <td>1321400060</td>\n",
       "      <td>6/27/2014</td>\n",
       "      <td>257500.0</td>\n",
       "      <td>3</td>\n",
       "      <td>2.25</td>\n",
       "      <td>1715</td>\n",
       "      <td>6819</td>\n",
       "      <td>2.0</td>\n",
       "      <td>0.0</td>\n",
       "      <td>0.0</td>\n",
       "      <td>...</td>\n",
       "      <td>7</td>\n",
       "      <td>1715</td>\n",
       "      <td>?</td>\n",
       "      <td>1995</td>\n",
       "      <td>0.0</td>\n",
       "      <td>98003</td>\n",
       "      <td>47.3097</td>\n",
       "      <td>-122.327</td>\n",
       "      <td>2238</td>\n",
       "      <td>6819</td>\n",
       "    </tr>\n",
       "    <tr>\n",
       "      <th>7</th>\n",
       "      <td>2008000270</td>\n",
       "      <td>1/15/2015</td>\n",
       "      <td>291850.0</td>\n",
       "      <td>3</td>\n",
       "      <td>1.50</td>\n",
       "      <td>1060</td>\n",
       "      <td>9711</td>\n",
       "      <td>1.0</td>\n",
       "      <td>0.0</td>\n",
       "      <td>NaN</td>\n",
       "      <td>...</td>\n",
       "      <td>7</td>\n",
       "      <td>1060</td>\n",
       "      <td>0.0</td>\n",
       "      <td>1963</td>\n",
       "      <td>0.0</td>\n",
       "      <td>98198</td>\n",
       "      <td>47.4095</td>\n",
       "      <td>-122.315</td>\n",
       "      <td>1650</td>\n",
       "      <td>9711</td>\n",
       "    </tr>\n",
       "    <tr>\n",
       "      <th>8</th>\n",
       "      <td>2414600126</td>\n",
       "      <td>4/15/2015</td>\n",
       "      <td>229500.0</td>\n",
       "      <td>3</td>\n",
       "      <td>1.00</td>\n",
       "      <td>1780</td>\n",
       "      <td>7470</td>\n",
       "      <td>1.0</td>\n",
       "      <td>0.0</td>\n",
       "      <td>0.0</td>\n",
       "      <td>...</td>\n",
       "      <td>7</td>\n",
       "      <td>1050</td>\n",
       "      <td>730.0</td>\n",
       "      <td>1960</td>\n",
       "      <td>0.0</td>\n",
       "      <td>98146</td>\n",
       "      <td>47.5123</td>\n",
       "      <td>-122.337</td>\n",
       "      <td>1780</td>\n",
       "      <td>8113</td>\n",
       "    </tr>\n",
       "    <tr>\n",
       "      <th>9</th>\n",
       "      <td>3793500160</td>\n",
       "      <td>3/12/2015</td>\n",
       "      <td>323000.0</td>\n",
       "      <td>3</td>\n",
       "      <td>2.50</td>\n",
       "      <td>1890</td>\n",
       "      <td>6560</td>\n",
       "      <td>2.0</td>\n",
       "      <td>0.0</td>\n",
       "      <td>0.0</td>\n",
       "      <td>...</td>\n",
       "      <td>7</td>\n",
       "      <td>1890</td>\n",
       "      <td>0.0</td>\n",
       "      <td>2003</td>\n",
       "      <td>0.0</td>\n",
       "      <td>98038</td>\n",
       "      <td>47.3684</td>\n",
       "      <td>-122.031</td>\n",
       "      <td>2390</td>\n",
       "      <td>7570</td>\n",
       "    </tr>\n",
       "  </tbody>\n",
       "</table>\n",
       "<p>10 rows × 21 columns</p>\n",
       "</div>"
      ],
      "text/plain": [
       "           id        date      price  bedrooms  bathrooms  sqft_living  \\\n",
       "0  7129300520  10/13/2014   221900.0         3       1.00         1180   \n",
       "1  6414100192   12/9/2014   538000.0         3       2.25         2570   \n",
       "2  5631500400   2/25/2015   180000.0         2       1.00          770   \n",
       "3  2487200875   12/9/2014   604000.0         4       3.00         1960   \n",
       "4  1954400510   2/18/2015   510000.0         3       2.00         1680   \n",
       "5  7237550310   5/12/2014  1230000.0         4       4.50         5420   \n",
       "6  1321400060   6/27/2014   257500.0         3       2.25         1715   \n",
       "7  2008000270   1/15/2015   291850.0         3       1.50         1060   \n",
       "8  2414600126   4/15/2015   229500.0         3       1.00         1780   \n",
       "9  3793500160   3/12/2015   323000.0         3       2.50         1890   \n",
       "\n",
       "   sqft_lot  floors  waterfront  view  ...  grade  sqft_above  sqft_basement  \\\n",
       "0      5650     1.0         NaN   0.0  ...      7        1180            0.0   \n",
       "1      7242     2.0         0.0   0.0  ...      7        2170          400.0   \n",
       "2     10000     1.0         0.0   0.0  ...      6         770            0.0   \n",
       "3      5000     1.0         0.0   0.0  ...      7        1050          910.0   \n",
       "4      8080     1.0         0.0   0.0  ...      8        1680            0.0   \n",
       "5    101930     1.0         0.0   0.0  ...     11        3890         1530.0   \n",
       "6      6819     2.0         0.0   0.0  ...      7        1715              ?   \n",
       "7      9711     1.0         0.0   NaN  ...      7        1060            0.0   \n",
       "8      7470     1.0         0.0   0.0  ...      7        1050          730.0   \n",
       "9      6560     2.0         0.0   0.0  ...      7        1890            0.0   \n",
       "\n",
       "  yr_built  yr_renovated  zipcode      lat     long  sqft_living15  sqft_lot15  \n",
       "0     1955           0.0    98178  47.5112 -122.257           1340        5650  \n",
       "1     1951        1991.0    98125  47.7210 -122.319           1690        7639  \n",
       "2     1933           NaN    98028  47.7379 -122.233           2720        8062  \n",
       "3     1965           0.0    98136  47.5208 -122.393           1360        5000  \n",
       "4     1987           0.0    98074  47.6168 -122.045           1800        7503  \n",
       "5     2001           0.0    98053  47.6561 -122.005           4760      101930  \n",
       "6     1995           0.0    98003  47.3097 -122.327           2238        6819  \n",
       "7     1963           0.0    98198  47.4095 -122.315           1650        9711  \n",
       "8     1960           0.0    98146  47.5123 -122.337           1780        8113  \n",
       "9     2003           0.0    98038  47.3684 -122.031           2390        7570  \n",
       "\n",
       "[10 rows x 21 columns]"
      ]
     },
     "execution_count": 3,
     "metadata": {},
     "output_type": "execute_result"
    }
   ],
   "source": [
    "# Load Dataset\n",
    "df = pd.read_csv('/Users/felixbehrendt/neuefische/EDA_project/data/King_County_House_prices_dataset.csv')\n",
    "\n",
    "# get Size of Dataframe\n",
    "print(df.shape)\n",
    "\n",
    "# display Dataframe and check Import\n",
    "df.head(10)\n"
   ]
  },
  {
   "cell_type": "code",
   "execution_count": 4,
   "metadata": {},
   "outputs": [
    {
     "name": "stdout",
     "output_type": "stream",
     "text": [
      "<class 'pandas.core.frame.DataFrame'>\n",
      "RangeIndex: 21597 entries, 0 to 21596\n",
      "Data columns (total 21 columns):\n",
      " #   Column         Non-Null Count  Dtype  \n",
      "---  ------         --------------  -----  \n",
      " 0   id             21597 non-null  int64  \n",
      " 1   date           21597 non-null  object \n",
      " 2   price          21597 non-null  float64\n",
      " 3   bedrooms       21597 non-null  int64  \n",
      " 4   bathrooms      21597 non-null  float64\n",
      " 5   sqft_living    21597 non-null  int64  \n",
      " 6   sqft_lot       21597 non-null  int64  \n",
      " 7   floors         21597 non-null  float64\n",
      " 8   waterfront     19221 non-null  float64\n",
      " 9   view           21534 non-null  float64\n",
      " 10  condition      21597 non-null  int64  \n",
      " 11  grade          21597 non-null  int64  \n",
      " 12  sqft_above     21597 non-null  int64  \n",
      " 13  sqft_basement  21597 non-null  object \n",
      " 14  yr_built       21597 non-null  int64  \n",
      " 15  yr_renovated   17755 non-null  float64\n",
      " 16  zipcode        21597 non-null  int64  \n",
      " 17  lat            21597 non-null  float64\n",
      " 18  long           21597 non-null  float64\n",
      " 19  sqft_living15  21597 non-null  int64  \n",
      " 20  sqft_lot15     21597 non-null  int64  \n",
      "dtypes: float64(8), int64(11), object(2)\n",
      "memory usage: 3.5+ MB\n"
     ]
    }
   ],
   "source": [
    "df.info()"
   ]
  },
  {
   "cell_type": "markdown",
   "metadata": {},
   "source": [
    "Based on these to tables we already get a grasp idea of our dataset. The dataset contains 21597 entries and 20 features (excluding the id). Most of the data are numeric and the date column is not from the Date datatype. Some columns (waterfront, view and yr_renovated) have missing values. None of these features are relevant for our stakeholder or the upcoming insights. So we drop these columns."
   ]
  },
  {
   "cell_type": "code",
   "execution_count": 5,
   "metadata": {},
   "outputs": [],
   "source": [
    "# Change str-date column to date\n",
    "df.date = pd.to_datetime(df.date, format='%m/%d/%Y')\n",
    "\n",
    "# Drop Columns - 'yr_renovated', 'waterfront', 'view']\n",
    "df_subset = df.drop(['yr_renovated', 'waterfront', 'view'], axis = 1)"
   ]
  },
  {
   "cell_type": "markdown",
   "metadata": {},
   "source": [
    "### Insight 1: Real Estate Industry Activity\n",
    "\n",
    "For the stakeholder, the timing of the purchase is relevant factor. Under the 'right timing' I assume it refers to the activity of the real estate market. This raises the following questions for the data set:\n",
    "\n",
    "*How does the time affect the activity of the real estate market?*\n",
    "\n",
    "---\n",
    "\n",
    "Question 1.1: <b>Is there a periodic variation in activity of the real estate market?</b>\n",
    "\n",
    "Question 1.2: <b>If so, which months show a high activity ?</b>\n",
    "\n",
    "Lets have a look in the distribution of the date column:"
   ]
  },
  {
   "cell_type": "code",
   "execution_count": 6,
   "metadata": {},
   "outputs": [
    {
     "data": {
      "image/png": "[encoded data removed]",
      "text/plain": [
       "<Figure size 432x288 with 1 Axes>"
      ]
     },
     "metadata": {
      "needs_background": "light"
     },
     "output_type": "display_data"
    }
   ],
   "source": [
    "# Change theme of plots\n",
    "sns.set_theme(style='darkgrid')\n",
    "\n",
    "# plot histogram for column date\n",
    "Histplot_date = sns.histplot(\n",
    "    df_subset.date,\n",
    "    color='grey',\n",
    "    kde = False,\n",
    "    stat ='count',\n",
    "    alpha=0.8\n",
    ")\n",
    "# set title\n",
    "plt.title('Number of sales over time (2014 - 2015)', fontsize=17)\n",
    "# set x-label\n",
    "plt.xlabel('Datum')\n",
    "# set y-label\n",
    "plt.ylabel('Number of sales')\n",
    "\n",
    "plt.show()\n"
   ]
  },
  {
   "cell_type": "markdown",
   "metadata": {},
   "source": [
    "Chart description: \n",
    "<font color='crimson'>\n",
    "\n",
    "In the graph it can be seen that many houses are sold in the summer months of 2014, these then decrease to January 2015 and then increase again. \n",
    "This is indicative of a periodic pattern for activity of the real estate market. The month 2015/5 is an outlier. The data recording probably stopped in this month. \n",
    "</font>\n",
    "\n",
    "Note: The data cover only a single year...so it is an assumption.\n",
    "\n",
    "</br>\n",
    "To represent a periodic behavior and the month with the highest activity, a grouping of all sales per month is suitable. The last month of 2015 will be discarded \n",
    "to avoid an overlap of the Mai 2015 and Mai 2014 und creating a bias. \n"
   ]
  },
  {
   "cell_type": "code",
   "execution_count": 14,
   "metadata": {},
   "outputs": [
    {
     "data": {
      "text/html": [
       "<div>\n",
       "<style scoped>\n",
       "    .dataframe tbody tr th:only-of-type {\n",
       "        vertical-align: middle;\n",
       "    }\n",
       "\n",
       "    .dataframe tbody tr th {\n",
       "        vertical-align: top;\n",
       "    }\n",
       "\n",
       "    .dataframe thead th {\n",
       "        text-align: right;\n",
       "    }\n",
       "</style>\n",
       "<table border=\"1\" class=\"dataframe\">\n",
       "  <thead>\n",
       "    <tr style=\"text-align: right;\">\n",
       "      <th></th>\n",
       "      <th>month</th>\n",
       "      <th>year</th>\n",
       "      <th>Number of sales</th>\n",
       "    </tr>\n",
       "  </thead>\n",
       "  <tbody>\n",
       "    <tr>\n",
       "      <th>0</th>\n",
       "      <td>1</td>\n",
       "      <td>2015</td>\n",
       "      <td>978</td>\n",
       "    </tr>\n",
       "    <tr>\n",
       "      <th>1</th>\n",
       "      <td>2</td>\n",
       "      <td>2015</td>\n",
       "      <td>1247</td>\n",
       "    </tr>\n",
       "    <tr>\n",
       "      <th>2</th>\n",
       "      <td>3</td>\n",
       "      <td>2015</td>\n",
       "      <td>1875</td>\n",
       "    </tr>\n",
       "    <tr>\n",
       "      <th>3</th>\n",
       "      <td>4</td>\n",
       "      <td>2015</td>\n",
       "      <td>2229</td>\n",
       "    </tr>\n",
       "    <tr>\n",
       "      <th>4</th>\n",
       "      <td>5</td>\n",
       "      <td>2014</td>\n",
       "      <td>1768</td>\n",
       "    </tr>\n",
       "    <tr>\n",
       "      <th>5</th>\n",
       "      <td>6</td>\n",
       "      <td>2014</td>\n",
       "      <td>2178</td>\n",
       "    </tr>\n",
       "    <tr>\n",
       "      <th>6</th>\n",
       "      <td>7</td>\n",
       "      <td>2014</td>\n",
       "      <td>2211</td>\n",
       "    </tr>\n",
       "    <tr>\n",
       "      <th>7</th>\n",
       "      <td>8</td>\n",
       "      <td>2014</td>\n",
       "      <td>1939</td>\n",
       "    </tr>\n",
       "    <tr>\n",
       "      <th>8</th>\n",
       "      <td>9</td>\n",
       "      <td>2014</td>\n",
       "      <td>1771</td>\n",
       "    </tr>\n",
       "    <tr>\n",
       "      <th>9</th>\n",
       "      <td>10</td>\n",
       "      <td>2014</td>\n",
       "      <td>1876</td>\n",
       "    </tr>\n",
       "    <tr>\n",
       "      <th>10</th>\n",
       "      <td>11</td>\n",
       "      <td>2014</td>\n",
       "      <td>1409</td>\n",
       "    </tr>\n",
       "    <tr>\n",
       "      <th>11</th>\n",
       "      <td>12</td>\n",
       "      <td>2014</td>\n",
       "      <td>1470</td>\n",
       "    </tr>\n",
       "  </tbody>\n",
       "</table>\n",
       "</div>"
      ],
      "text/plain": [
       "    month  year  Number of sales\n",
       "0       1  2015              978\n",
       "1       2  2015             1247\n",
       "2       3  2015             1875\n",
       "3       4  2015             2229\n",
       "4       5  2014             1768\n",
       "5       6  2014             2178\n",
       "6       7  2014             2211\n",
       "7       8  2014             1939\n",
       "8       9  2014             1771\n",
       "9      10  2014             1876\n",
       "10     11  2014             1409\n",
       "11     12  2014             1470"
      ]
     },
     "execution_count": 14,
     "metadata": {},
     "output_type": "execute_result"
    },
    {
     "data": {
      "image/png": "[encoded data removed]",
      "text/plain": [
       "<Figure size 432x288 with 1 Axes>"
      ]
     },
     "metadata": {
      "needs_background": "light"
     },
     "output_type": "display_data"
    }
   ],
   "source": [
    "# Create new column for year / month\n",
    "df_subset['year'] = df_subset.date.dt.year\n",
    "df_subset['month'] = df_subset.date.dt.month\n",
    "\n",
    "# Delete all of Mai 2015\n",
    "df_sub_wo_Mai_2015 = res = df_subset[~(df_subset['date'] >= '2015-05-01')]\n",
    "\n",
    "# group by month and year\n",
    "df_count_month = df_sub_wo_Mai_2015.groupby(['month', 'year']).size().to_frame('Number of sales').reset_index()\n",
    "\n",
    "# Plot\n",
    "sns.lineplot(\n",
    "    data =df_count_month,\n",
    "    x = 'month',\n",
    "    y = 'Number of sales',\n",
    ")\n",
    "# set title\n",
    "plt.title('Number of sales per month (05/2014 - 04/2015)', fontsize=17)\n",
    "# set x-label\n",
    "plt.xlabel('Month')\n",
    "# set y-label\n",
    "plt.ylabel('Number of sales')\n",
    "\n",
    "# # Display Table\n",
    "df_count_month"
   ]
  },
  {
   "cell_type": "markdown",
   "metadata": {},
   "source": [
    "Chart description: \n",
    "<font color='crimson'>\n",
    "During the sommer season the number of sales increase. The highest number of sales are in April, June and July (>2000 sales). During Mai the number of sales decrease, which is unexpected. I couldn't find an explanation in the news during the period. \n",
    "</font>\n",
    "\n",
    "\n",
    "#### Conclusion - Insight 1: Real Estate Activity \n",
    "\n",
    "Based on the data, I reach the following conclusions:\n",
    "\n",
    "<b>Real estate market activity fluctuates throughout the year. \n",
    "</br>\n",
    "More properties are sold in the summer months than in the winter months. From this I assume that the number of properties on offer is also higher.  </b>\n",
    "\n",
    "The months with the highest activity are:\n",
    "<b>\n",
    "- April\n",
    "- June\n",
    "- July</b>\n",
    "\n",
    "</br>\n",
    "</br>\n"
   ]
  },
  {
   "cell_type": "markdown",
   "metadata": {},
   "source": [
    "### Insight 2: Central Neighbourhood\n",
    "\n",
    "The stakeholder wishes for an object in a central neighborhood. American cities often follow a pattern of structuring that in the core is the CBD(Central Business District), then transitional area and outside the suburbs (for more information see the [wikipedia entry](https://de.wikipedia.org/wiki/Nordamerikanische_Stadt)). In general the real estate object are smaller (area) and more expensive. Therefore I ask  the following question:\n",
    "\n",
    "*How does the centrality of the objects affect the price and the size of neighboring objects?*\n",
    "\n",
    "---\n",
    "\n",
    "Hypothesis 2.1: <b> The closer an object is to the city center, the smaller the size of neighboring objects. </b>\n",
    "\n",
    "Hypothesis 2.2: <b> The closer an object is to the city center, the higher the price. </b>"
   ]
  },
  {
   "cell_type": "markdown",
   "metadata": {},
   "source": [
    "Since there is no information about a city center, we now use the given coordinates to display a map with the two indicators size and cost. But at first a glance to the price distribution will be helpful."
   ]
  },
  {
   "cell_type": "code",
   "execution_count": 123,
   "metadata": {},
   "outputs": [
    {
     "data": {
      "image/png": "[encoded data removed]",
      "text/plain": [
       "<Figure size 432x288 with 1 Axes>"
      ]
     },
     "metadata": {},
     "output_type": "display_data"
    }
   ],
   "source": [
    "# plot histogram for column date\n",
    "Histplot_price = sns.histplot(\n",
    "    df_subset.price,\n",
    "    color='grey',\n",
    "    kde = False,\n",
    "    stat ='count',\n",
    "    alpha=0.8\n",
    ")\n",
    "# set title\n",
    "plt.title('Number of sales over prices', fontsize=17)\n",
    "# set x-label\n",
    "plt.xlabel('Price in $')\n",
    "# set y-label\n",
    "plt.ylabel('Number of sales')\n",
    "# Quantil lines - optional\n",
    "# plt.axvline(df_subset.price.quantile(0.25), 0,1, linestyle='--')\n",
    "# plt.axvline(df_subset.price.quantile(0.5), 0,1,linestyle='--')\n",
    "# plt.axvline(df_subset.price.quantile(0.75), 0,1, linestyle='--')\n",
    "plt.show()\n"
   ]
  },
  {
   "cell_type": "markdown",
   "metadata": {},
   "source": [
    "Chart description: \n",
    "\n",
    "<font color='crimson'>\n",
    "The distribution of the price is unimodal and skewed to the right (positively). The reason for this are a few objects that are very expensive. The majority of the objects are in a price range from $78.000,00 to $645.000,00 (75% of the data). </font>\n"
   ]
  },
  {
   "cell_type": "markdown",
   "metadata": {},
   "source": [
    "This skewed distribution causes visual problems when displaying the price. In addition, the stakeholder calls for proposals in the middle price range. Therefore it is advisable to group the costs into intervals. Here, the 25%, 50% and the 75% quantile are used to group the prices into four intervals:\n",
    "\n",
    "| Price Interval     | Price Range in $ |\n",
    "| ----------- | ----------- |\n",
    "| low prices       | (77999.999, 322000.0]      |\n",
    "| middle prices   | (322000.0, 450000.0]       |\n",
    "| high prices   | (450000.0, 645000.0]       |\n",
    "| very high prices   | (645000.0, 7700000.0]       |"
   ]
  },
  {
   "cell_type": "code",
   "execution_count": 146,
   "metadata": {},
   "outputs": [
    {
     "data": {
      "text/html": [
       "<div>\n",
       "<style scoped>\n",
       "    .dataframe tbody tr th:only-of-type {\n",
       "        vertical-align: middle;\n",
       "    }\n",
       "\n",
       "    .dataframe tbody tr th {\n",
       "        vertical-align: top;\n",
       "    }\n",
       "\n",
       "    .dataframe thead th {\n",
       "        text-align: right;\n",
       "    }\n",
       "</style>\n",
       "<table border=\"1\" class=\"dataframe\">\n",
       "  <thead>\n",
       "    <tr style=\"text-align: right;\">\n",
       "      <th></th>\n",
       "      <th>price_ranges</th>\n",
       "      <th>Number of each Group</th>\n",
       "    </tr>\n",
       "  </thead>\n",
       "  <tbody>\n",
       "    <tr>\n",
       "      <th>0</th>\n",
       "      <td>low</td>\n",
       "      <td>5406</td>\n",
       "    </tr>\n",
       "    <tr>\n",
       "      <th>1</th>\n",
       "      <td>middle</td>\n",
       "      <td>5445</td>\n",
       "    </tr>\n",
       "    <tr>\n",
       "      <th>2</th>\n",
       "      <td>high</td>\n",
       "      <td>5375</td>\n",
       "    </tr>\n",
       "    <tr>\n",
       "      <th>3</th>\n",
       "      <td>very high</td>\n",
       "      <td>5371</td>\n",
       "    </tr>\n",
       "  </tbody>\n",
       "</table>\n",
       "</div>"
      ],
      "text/plain": [
       "  price_ranges  Number of each Group\n",
       "0          low                  5406\n",
       "1       middle                  5445\n",
       "2         high                  5375\n",
       "3    very high                  5371"
      ]
     },
     "execution_count": 146,
     "metadata": {},
     "output_type": "execute_result"
    }
   ],
   "source": [
    "# create new column with group of prices\n",
    "df_subset['price_ranges'] = pd.qcut(df_subset.price, q = 4, labels=['low', 'middle', 'high', 'very high'])\n",
    "\n",
    "# check distribution \n",
    "df_subset.groupby('price_ranges').size().to_frame('Number of each Group').reset_index()\n"
   ]
  },
  {
   "cell_type": "markdown",
   "metadata": {},
   "source": [
    "Since the quantiles were used, the groups have the same size. Thus I apply a random sampling (1000) to the data to improve visibility.\n",
    "\n",
    "I use the <b> sqft_lot15 </b> column as a metric for the size of the neighboring objects. In addition, compute the inverse of this metric so that objects with many small neighbors are represented large. This facilitates the visualization of the data."
   ]
  },
  {
   "cell_type": "code",
   "execution_count": 152,
   "metadata": {},
   "outputs": [
    {
     "data": {
      "application/vnd.plotly.v1+json": {
       "config": {
        "plotlyServerURL": "https://plot.ly",
        "scrollZoom": false
       },
       "data": [
        {
         "customdata": [
          [
           314000,
           217800,
           98022
          ],
          [
           265050,
           4800,
           98106
          ],
          [
           175000,
           10994,
           98055
          ],
          [
           165000,
           17859,
           98032
          ],
          [
           259950,
           10125,
           98166
          ],
          [
           274000,
           9458,
           98155
          ],
          [
           274250,
           8040,
           98059
          ],
          [
           294999,
           9614,
           98030
          ],
          [
           175000,
           6600,
           98168
          ],
          [
           286900,
           35048,
           98042
          ],
          [
           255000,
           8196,
           98198
          ],
          [
           300000,
           9994,
           98028
          ],
          [
           150000,
           6180,
           98002
          ],
          [
           280000,
           7916,
           98055
          ],
          [
           253000,
           7366,
           98042
          ],
          [
           290000,
           12498,
           98056
          ],
          [
           304400,
           7002,
           98023
          ],
          [
           298000,
           11785,
           98092
          ],
          [
           280000,
           14439,
           98001
          ],
          [
           315000,
           9830,
           98001
          ],
          [
           170000,
           93825,
           98092
          ],
          [
           199000,
           8027,
           98058
          ],
          [
           210000,
           7800,
           98092
          ],
          [
           220000,
           9826,
           98023
          ],
          [
           270000,
           8433,
           98155
          ],
          [
           320000,
           1826,
           98106
          ],
          [
           260000,
           5000,
           98146
          ],
          [
           245000,
           7540,
           98092
          ],
          [
           302059,
           942,
           98027
          ],
          [
           235000,
           7750,
           98002
          ],
          [
           280000,
           7207,
           98030
          ],
          [
           198500,
           8880,
           98023
          ],
          [
           321500,
           5816,
           98001
          ],
          [
           239000,
           8573,
           98146
          ],
          [
           225900,
           8470,
           98003
          ],
          [
           163000,
           4811,
           98032
          ],
          [
           274975,
           35781,
           98077
          ],
          [
           244000,
           9625,
           98030
          ],
          [
           315000,
           5100,
           98133
          ],
          [
           210000,
           7560,
           98133
          ],
          [
           279000,
           7700,
           98058
          ],
          [
           200000,
           10588,
           98002
          ],
          [
           253200,
           6708,
           98056
          ],
          [
           215000,
           7300,
           98168
          ],
          [
           189000,
           5095,
           98002
          ],
          [
           308500,
           6174,
           98155
          ],
          [
           245000,
           7159,
           98038
          ],
          [
           299950,
           8153,
           98031
          ],
          [
           209000,
           5100,
           98042
          ],
          [
           265000,
           4316,
           98146
          ],
          [
           216300,
           5000,
           98023
          ],
          [
           257000,
           3794,
           98002
          ],
          [
           290000,
           14910,
           98058
          ],
          [
           240500,
           7460,
           98146
          ],
          [
           220000,
           7280,
           98023
          ],
          [
           309000,
           1283,
           98106
          ],
          [
           199000,
           11250,
           98055
          ],
          [
           275000,
           6821,
           98023
          ],
          [
           300000,
           15100,
           98168
          ],
          [
           315500,
           10087,
           98019
          ],
          [
           218000,
           8610,
           98022
          ],
          [
           270000,
           8581,
           98133
          ],
          [
           312000,
           7200,
           98031
          ],
          [
           235000,
           13154,
           98168
          ],
          [
           246500,
           9945,
           98031
          ],
          [
           320000,
           8400,
           98166
          ],
          [
           300000,
           7788,
           98178
          ],
          [
           305000,
           11584,
           98032
          ],
          [
           180000,
           9352,
           98155
          ],
          [
           216650,
           4000,
           98109
          ],
          [
           276000,
           4000,
           98106
          ],
          [
           292000,
           6406,
           98030
          ],
          [
           210000,
           8175,
           98056
          ],
          [
           280000,
           8250,
           98058
          ],
          [
           267950,
           7752,
           98003
          ],
          [
           277000,
           4000,
           98146
          ],
          [
           147200,
           8415,
           98188
          ],
          [
           279000,
           8108,
           98056
          ],
          [
           267500,
           5000,
           98126
          ],
          [
           157000,
           8605,
           98198
          ],
          [
           245000,
           6860,
           98155
          ],
          [
           230000,
           5000,
           98178
          ],
          [
           311600,
           1196,
           98133
          ],
          [
           257500,
           18000,
           98125
          ],
          [
           301000,
           6180,
           98031
          ],
          [
           312000,
           6525,
           98115
          ],
          [
           305000,
           9750,
           98168
          ],
          [
           262500,
           8550,
           98003
          ],
          [
           312000,
           7320,
           98106
          ],
          [
           320000,
           16445,
           98042
          ],
          [
           295000,
           7200,
           98058
          ],
          [
           242000,
           21850,
           98032
          ],
          [
           200000,
           5200,
           98056
          ],
          [
           195000,
           20250,
           98001
          ],
          [
           286000,
           4800,
           98106
          ],
          [
           165000,
           8892,
           98056
          ],
          [
           275000,
           8040,
           98059
          ],
          [
           250000,
           6434,
           98108
          ],
          [
           222900,
           6000,
           98056
          ],
          [
           250000,
           10966,
           98030
          ],
          [
           260000,
           4120,
           98106
          ],
          [
           220000,
           7542,
           98030
          ],
          [
           320000,
           6085,
           98126
          ],
          [
           169950,
           9894,
           98042
          ],
          [
           129000,
           19684,
           98055
          ],
          [
           299000,
           1484,
           98122
          ],
          [
           295000,
           4000,
           98106
          ],
          [
           218250,
           9611,
           98023
          ],
          [
           299950,
           7600,
           98023
          ],
          [
           190000,
           9452,
           98146
          ],
          [
           213400,
           6982,
           98030
          ],
          [
           165000,
           5502,
           98106
          ],
          [
           184000,
           9220,
           98023
          ],
          [
           315000,
           8308,
           98146
          ],
          [
           253000,
           7416,
           98031
          ],
          [
           152000,
           3330,
           98092
          ],
          [
           225000,
           6500,
           98056
          ],
          [
           286000,
           5559,
           98042
          ],
          [
           260000,
           6950,
           98023
          ],
          [
           299950,
           1756,
           98133
          ],
          [
           300000,
           4060,
           98042
          ],
          [
           209000,
           7680,
           98001
          ],
          [
           195000,
           2687,
           98038
          ],
          [
           299900,
           6537,
           98092
          ],
          [
           242550,
           7720,
           98023
          ],
          [
           225000,
           13475,
           98042
          ],
          [
           235000,
           10500,
           98024
          ],
          [
           115000,
           10208,
           98001
          ],
          [
           269950,
           10800,
           98002
          ],
          [
           257950,
           7500,
           98198
          ],
          [
           295000,
           10706,
           98178
          ],
          [
           250000,
           6301,
           98002
          ],
          [
           272000,
           11960,
           98198
          ],
          [
           283000,
           5636,
           98168
          ],
          [
           252350,
           7350,
           98058
          ],
          [
           292500,
           4604,
           98001
          ],
          [
           265000,
           1198,
           98126
          ],
          [
           300000,
           5091,
           98038
          ],
          [
           259000,
           3767,
           98042
          ],
          [
           320900,
           7210,
           98031
          ],
          [
           273148,
           7245,
           98031
          ],
          [
           320000,
           6000,
           98133
          ],
          [
           162950,
           3899,
           98198
          ],
          [
           304500,
           5232,
           98031
          ],
          [
           285000,
           8660,
           98023
          ],
          [
           177000,
           5200,
           98042
          ],
          [
           210000,
           5200,
           98042
          ],
          [
           240000,
           7121,
           98027
          ],
          [
           314950,
           5175,
           98038
          ],
          [
           180000,
           6250,
           98198
          ],
          [
           235000,
           5684,
           98118
          ],
          [
           315000,
           8505,
           98106
          ],
          [
           279000,
           7275,
           98031
          ],
          [
           280000,
           7464,
           98003
          ],
          [
           315000,
           8348,
           98168
          ],
          [
           261490,
           7396,
           98056
          ],
          [
           305000,
           8820,
           98059
          ],
          [
           254000,
           7480,
           98038
          ],
          [
           203000,
           8000,
           98092
          ],
          [
           245000,
           8000,
           98023
          ],
          [
           259000,
           8295,
           98056
          ],
          [
           300000,
           12415,
           98070
          ],
          [
           231000,
           8712,
           98058
          ],
          [
           155000,
           4755,
           98118
          ],
          [
           300000,
           5827,
           98031
          ],
          [
           190000,
           6250,
           98155
          ],
          [
           315000,
           7700,
           98058
          ],
          [
           270000,
           7417,
           98042
          ],
          [
           267300,
           172062,
           98092
          ],
          [
           319000,
           13502,
           98188
          ],
          [
           262000,
           9715,
           98188
          ],
          [
           144000,
           9975,
           98058
          ],
          [
           272000,
           7350,
           98023
          ],
          [
           249950,
           4000,
           98108
          ],
          [
           270000,
           1344,
           98126
          ],
          [
           284000,
           13560,
           98133
          ],
          [
           275000,
           8319,
           98155
          ],
          [
           213000,
           54450,
           98010
          ],
          [
           248000,
           6960,
           98027
          ],
          [
           315000,
           5750,
           98126
          ],
          [
           200000,
           9147,
           98010
          ],
          [
           315000,
           9604,
           98038
          ],
          [
           275000,
           7418,
           98002
          ],
          [
           269900,
           15625,
           98045
          ],
          [
           187000,
           9120,
           98168
          ],
          [
           224000,
           15000,
           98168
          ],
          [
           260000,
           8550,
           98011
          ],
          [
           319950,
           7980,
           98178
          ],
          [
           319950,
           8086,
           98058
          ],
          [
           290000,
           7475,
           98031
          ],
          [
           315000,
           8500,
           98023
          ],
          [
           308950,
           8628,
           98022
          ],
          [
           289950,
           6440,
           98023
          ],
          [
           317500,
           7695,
           98058
          ],
          [
           240000,
           10664,
           98198
          ],
          [
           195000,
           8400,
           98042
          ],
          [
           249000,
           6000,
           98032
          ],
          [
           240000,
           5382,
           98056
          ],
          [
           310000,
           1387,
           98125
          ],
          [
           255000,
           10167,
           98042
          ],
          [
           200000,
           25675,
           98055
          ],
          [
           279500,
           4341,
           98042
          ],
          [
           230000,
           10228,
           98155
          ],
          [
           293000,
           4502,
           98038
          ],
          [
           290500,
           5500,
           98178
          ],
          [
           269900,
           8325,
           98031
          ],
          [
           300000,
           14406,
           98042
          ],
          [
           296500,
           10032,
           98055
          ],
          [
           238000,
           3370,
           98055
          ],
          [
           320000,
           6900,
           98166
          ],
          [
           240000,
           7560,
           98032
          ],
          [
           300000,
           8535,
           98031
          ],
          [
           278000,
           6144,
           98023
          ],
          [
           226450,
           7200,
           98032
          ],
          [
           271500,
           7905,
           98058
          ],
          [
           160000,
           8723,
           98168
          ],
          [
           240000,
           6728,
           98032
          ],
          [
           275000,
           12900,
           98055
          ],
          [
           302000,
           9184,
           98092
          ],
          [
           275000,
           7007,
           98168
          ],
          [
           320000,
           2890,
           98108
          ],
          [
           246000,
           7632,
           98166
          ],
          [
           290000,
           217800,
           98019
          ],
          [
           128000,
           8416,
           98003
          ],
          [
           260000,
           4347,
           98042
          ],
          [
           268000,
           10050,
           98023
          ],
          [
           247500,
           6318,
           98002
          ],
          [
           280500,
           6803,
           98092
          ],
          [
           194000,
           14959,
           98055
          ],
          [
           286950,
           7977,
           98001
          ],
          [
           245000,
           8800,
           98023
          ],
          [
           278000,
           10454,
           98001
          ],
          [
           280000,
           6165,
           98118
          ],
          [
           295000,
           8918,
           98148
          ],
          [
           250000,
           9669,
           98056
          ],
          [
           180000,
           392040,
           98014
          ],
          [
           300000,
           9926,
           98002
          ],
          [
           303000,
           9669,
           98001
          ],
          [
           252500,
           6360,
           98178
          ],
          [
           300000,
           98010,
           98038
          ],
          [
           155000,
           6849,
           98014
          ],
          [
           249950,
           7624,
           98058
          ],
          [
           218450,
           11674,
           98166
          ],
          [
           300000,
           7400,
           98042
          ],
          [
           210000,
           7210,
           98001
          ],
          [
           199900,
           15582,
           98001
          ],
          [
           260600,
           4560,
           98126
          ],
          [
           234550,
           10236,
           98168
          ],
          [
           275000,
           9737,
           98031
          ],
          [
           234300,
           9814,
           98055
          ]
         ],
         "hovertemplate": "<b>%{hovertext}</b><br><br>price_ranges=low<br>inverse sqft_lot15=%{marker.size}<br>lat=%{lat}<br>long=%{lon}<br>price=%{customdata[0]}<br>sqft_lot15=%{customdata[1]}<br>zipcode=%{customdata[2]}<extra></extra>",
         "hovertext": [
          3421069020,
          3438500346,
          9564800145,
          2822049210,
          4331400190,
          5589300205,
          3211100860,
          4345300050,
          1446401190,
          3222069153,
          3210400060,
          8947800080,
          7116000425,
          6402710070,
          1796380060,
          7809200035,
          104560120,
          2798600120,
          3750607974,
          6648760150,
          1796100140,
          5126400230,
          3327000090,
          9324320040,
          4024700100,
          8165501510,
          7211401975,
          1683600130,
          9268850360,
          1721059069,
          293600080,
          1788700185,
          6699300210,
          2641800060,
          2329600280,
          6147600040,
          3530210260,
          4359100050,
          6450304600,
          6149700405,
          8645500900,
          9500900135,
          421000455,
          3821400200,
          16000397,
          4408100095,
          8856950310,
          2787460430,
          8651410090,
          2895810200,
          2115720070,
          7338220280,
          6197800045,
          7520000520,
          109210280,
          1773100980,
          2923059064,
          104550660,
          8019200030,
          1402810150,
          5437820310,
          3293700496,
          1354600160,
          798000457,
          8732000390,
          7635800180,
          4058801680,
          1310900140,
          6163900073,
          2734100734,
          2112700895,
          5003600240,
          8948500065,
          1423900580,
          4222310010,
          7211400760,
          422049178,
          1839500065,
          7452500770,
          937000330,
          9235900030,
          179001425,
          2291400341,
          3822200036,
          3791400100,
          5101402435,
          2023049350,
          3375300370,
          7972602080,
          1156000250,
          5126900321,
          2632000080,
          421000185,
          5647900930,
          1773100121,
          425200205,
          3211000930,
          1607100139,
          7227500450,
          1657000070,
          2114700040,
          8091410390,
          9285800345,
          3384300160,
          87000213,
          9828201361,
          2112700280,
          1898600100,
          8731990700,
          84000245,
          8155760040,
          3004800175,
          8945000910,
          7100000035,
          2787311480,
          4239400730,
          423000035,
          7569450480,
          5029460180,
          2426039247,
          2517000650,
          1311800560,
          2781270090,
          2111000580,
          2944510080,
          766500030,
          6730700260,
          3356403820,
          9500900060,
          2011000010,
          5476800201,
          8892900180,
          2868300061,
          795000885,
          2460700700,
          8947250060,
          5347200165,
          5416510830,
          1796500100,
          3374500290,
          2787311110,
          7276100282,
          3530420020,
          5466380050,
          2115510470,
          8651430870,
          8651441620,
          5279100680,
          5104510210,
          2560801222,
          2341300115,
          8638500020,
          8025700460,
          2413301070,
          2423400040,
          9476200485,
          1088400190,
          2215901230,
          1685200190,
          8731982470,
          7236100015,
          3022039069,
          2223059052,
          4006000307,
          9430000070,
          3972900160,
          2473101070,
          5468730110,
          520069032,
          8125200481,
          7661600206,
          6197200021,
          9542800700,
          2734100736,
          5347200179,
          9310300211,
          100100050,
          3222079136,
          5279100625,
          9284801165,
          844000180,
          1545807990,
          7349600230,
          192460310,
          792000006,
          8018600870,
          526059224,
          4058801325,
          2473380400,
          8078560140,
          8731900640,
          3797300190,
          4388000120,
          1328300040,
          2011400520,
          1796350570,
          3686900025,
          7227501450,
          2026049125,
          5547500050,
          6623400246,
          4051150080,
          3996900125,
          9406590250,
          179000240,
          6457000080,
          252000300,
          3276200280,
          2892700041,
          1220000367,
          7523700245,
          1332200110,
          6664900470,
          1863900225,
          984210220,
          423049067,
          2722049092,
          87000006,
          1657310170,
          8864000735,
          3395040550,
          1218000025,
          1626079066,
          421049114,
          4051150100,
          7205000080,
          7349650230,
          1402900380,
          4204400339,
          3329510850,
          8732040180,
          5530000050,
          3331000220,
          6121000090,
          3342700465,
          2225079030,
          3021059304,
          8159620260,
          3352402236,
          222069082,
          2626119062,
          1423600300,
          4330600301,
          6648500580,
          1311200380,
          2482500040,
          2235000015,
          1523049115,
          2953000250,
          2068500210
         ],
         "lat": [
          47.2628,
          47.554,
          47.49,
          47.3611,
          47.4756,
          47.7523,
          47.4787,
          47.3635,
          47.4862,
          47.3438,
          47.3676,
          47.7335,
          47.303,
          47.4431,
          47.3658,
          47.4972,
          47.3075,
          47.3293,
          47.2702,
          47.3397,
          47.3099,
          47.4763,
          47.3138,
          47.31399999999999,
          47.7623,
          47.5394,
          47.511,
          47.3177,
          47.5393,
          47.3056,
          47.3783,
          47.3274,
          47.3148,
          47.5006,
          47.32899999999999,
          47.3912,
          47.7721,
          47.3799,
          47.7313,
          47.7294,
          47.464,
          47.2876,
          47.4945,
          47.4811,
          47.3089,
          47.7352,
          47.385,
          47.4048,
          47.3644,
          47.5134,
          47.3206,
          47.3363,
          47.4375,
          47.4957,
          47.2957,
          47.5569,
          47.4521,
          47.3065,
          47.495,
          47.7341,
          47.1951,
          47.7481,
          47.4098,
          47.5008,
          47.4075,
          47.4696,
          47.5094,
          47.3634,
          47.762,
          47.542,
          47.5346,
          47.3631,
          47.4943,
          47.4526,
          47.3467,
          47.5131,
          47.4232,
          47.5051,
          47.5201,
          47.4211,
          47.7503,
          47.4928,
          47.7052,
          47.7252,
          47.4045,
          47.6942,
          47.4717,
          47.3179,
          47.5281,
          47.3392,
          47.4753,
          47.4122,
          47.4953,
          47.3278,
          47.5601,
          47.4971,
          47.4805,
          47.5658,
          47.4979,
          47.3734,
          47.5327,
          47.35,
          47.57,
          47.3845,
          47.4492,
          47.6175,
          47.5329,
          47.3155,
          47.3213,
          47.4864,
          47.3867,
          47.5169,
          47.3072,
          47.508,
          47.4117,
          47.3155,
          47.497,
          47.3684,
          47.2895,
          47.7274,
          47.3992,
          47.3364,
          47.3501,
          47.3344,
          47.2956,
          47.3664,
          47.5662,
          47.2841,
          47.2868,
          47.3815,
          47.5072,
          47.3414,
          47.4128,
          47.5049,
          47.4612,
          47.3351,
          47.5187,
          47.3607,
          47.3612,
          47.4087,
          47.4094,
          47.7599,
          47.3793,
          47.38800000000001,
          47.3199,
          47.3695,
          47.364,
          47.5321,
          47.3575,
          47.3822,
          47.551,
          47.5389,
          47.4002,
          47.3251,
          47.4731,
          47.4894,
          47.4794,
          47.3539,
          47.3187,
          47.3191,
          47.4902,
          47.3719,
          47.4692,
          47.5313,
          47.4016,
          47.7659,
          47.4484,
          47.3531,
          47.2568,
          47.4516,
          47.4697,
          47.4411,
          47.3026,
          47.5421,
          47.5183,
          47.7401,
          47.7748,
          47.3492,
          47.5325,
          47.5523,
          47.3124,
          47.3583,
          47.2844,
          47.4761,
          47.492,
          47.4935,
          47.7721,
          47.507,
          47.4569,
          47.4045,
          47.3143,
          47.1932,
          47.319,
          47.4414,
          47.3965,
          47.369,
          47.3769,
          47.4946,
          47.7263,
          47.3815,
          47.4269,
          47.3859,
          47.7481,
          47.3844,
          47.494,
          47.4007,
          47.3617,
          47.4423,
          47.4499,
          47.4643,
          47.3784,
          47.4042,
          47.2911,
          47.3774,
          47.4359,
          47.507,
          47.3581,
          47.4552,
          47.3289,
          47.4806,
          47.5434,
          47.4625,
          47.7378,
          47.3432,
          47.3857,
          47.3338,
          47.2835,
          47.3328,
          47.4848,
          47.3338,
          47.3078,
          47.3073,
          47.5533,
          47.4323,
          47.524,
          47.63,
          47.2773,
          47.34,
          47.49800000000001,
          47.4219,
          47.7074,
          47.4553,
          47.4749,
          47.3551,
          47.3404,
          47.3266,
          47.5425,
          47.4778,
          47.4125,
          47.424
         ],
         "legendgroup": "low",
         "lon": [
          -122.03,
          -122.362,
          -122.22,
          -122.293,
          -122.35,
          -122.311,
          -122.158,
          -122.188,
          -122.33,
          -122.073,
          -122.312,
          -122.227,
          -122.217,
          -122.19,
          -122.085,
          -122.176,
          -122.359,
          -122.205,
          -122.29,
          -122.266,
          -122.09,
          -122.177,
          -122.192,
          -122.364,
          -122.313,
          -122.368,
          -122.359,
          -122.182,
          -122.026,
          -122.206,
          -122.182,
          -122.346,
          -122.27,
          -122.336,
          -122.33,
          -122.234,
          -122.093,
          -122.211,
          -122.343,
          -122.341,
          -122.18,
          -122.212,
          -122.166,
          -122.325,
          -122.21,
          -122.328,
          -122.031,
          -122.178,
          -122.082,
          -122.342,
          -122.394,
          -122.213,
          -122.184,
          -122.352,
          -122.37,
          -122.363,
          -122.196,
          -122.358,
          -122.318,
          -121.976,
          -122.001,
          -122.355,
          -122.189,
          -122.332,
          -122.196,
          -122.359,
          -122.244,
          -122.279,
          -122.321,
          -122.322,
          -122.353,
          -122.192,
          -122.178,
          -122.176,
          -122.307,
          -122.357,
          -122.292,
          -122.194,
          -122.372,
          -122.29,
          -122.328,
          -122.274,
          -122.346,
          -122.297,
          -122.208,
          -122.304,
          -122.323,
          -122.331,
          -122.348,
          -122.131,
          -122.172,
          -122.267,
          -122.169,
          -122.262,
          -122.363,
          -122.168,
          -122.158,
          -122.292,
          -122.183,
          -122.193,
          -122.346,
          -122.168,
          -122.38,
          -122.085,
          -122.2,
          -122.297,
          -122.354,
          -122.401,
          -122.385,
          -122.337,
          -122.191,
          -122.358,
          -122.363,
          -122.378,
          -122.174,
          -122.182,
          -122.171,
          -122.123,
          -122.37,
          -122.357,
          -122.163,
          -122.276,
          -122.02,
          -122.174,
          -122.374,
          -122.1,
          -121.886,
          -122.255,
          -122.21,
          -122.313,
          -122.272,
          -122.218,
          -122.323,
          -122.329,
          -122.169,
          -122.289,
          -122.377,
          -122.034,
          -122.103,
          -122.17,
          -122.175,
          -122.343,
          -122.321,
          -122.176,
          -122.392,
          -122.081,
          -122.094,
          -122.029,
          -122.016,
          -122.316,
          -122.289,
          -122.353,
          -122.189,
          -122.329,
          -122.327,
          -122.188,
          -122.078,
          -122.054,
          -122.179,
          -122.385,
          -122.179,
          -122.461,
          -122.162,
          -122.28,
          -122.209,
          -122.31,
          -122.158,
          -122.143,
          -122.07,
          -122.267,
          -122.267,
          -122.186,
          -122.374,
          -122.321,
          -122.376,
          -122.348,
          -122.304,
          -121.935,
          -122.031,
          -122.372,
          -122.003,
          -122.056,
          -122.205,
          -121.758,
          -122.302,
          -122.316,
          -122.206,
          -122.242,
          -122.165,
          -122.171,
          -122.37,
          -122.008,
          -122.373,
          -122.129,
          -122.321,
          -122.093,
          -122.234,
          -122.187,
          -122.314,
          -122.09,
          -122.197,
          -122.162,
          -122.3,
          -122.036,
          -122.279,
          -122.198,
          -122.061,
          -122.193,
          -122.189,
          -122.346,
          -122.303,
          -122.213,
          -122.353,
          -122.236,
          -122.165,
          -122.302,
          -122.288,
          -122.202,
          -122.204,
          -122.287,
          -122.293,
          -122.345,
          -121.912,
          -122.309,
          -122.162,
          -122.341,
          -122.2,
          -122.187,
          -122.221,
          -122.268,
          -122.386,
          -122.272,
          -122.285,
          -122.328,
          -122.2,
          -121.9,
          -122.216,
          -122.271,
          -122.263,
          -122.007,
          -121.364,
          -122.174,
          -122.339,
          -122.148,
          -122.28,
          -122.291,
          -122.376,
          -122.288,
          -122.207,
          -122.201
         ],
         "marker": {
          "color": "#4C78A8",
          "size": [
           0.000004591368227731864,
           0.00020833333333333335,
           0.00009095870474804439,
           0.00005599417660563302,
           0.00009876543209876543,
           0.00010573059843518714,
           0.0001243781094527363,
           0.00010401497815685458,
           0.00015151515151515152,
           0.000028532298561972153,
           0.00012201073694485115,
           0.00010006003602161297,
           0.00016181229773462783,
           0.00012632642748863063,
           0.00013575889220743959,
           0.00008001280204832773,
           0.00014281633818908883,
           0.00008485362749257531,
           0.00006925687374471916,
           0.0001017293997965412,
           0.000010658140154543033,
           0.00012457954403886882,
           0.0001282051282051282,
           0.0001017708121310808,
           0.00011858176212498517,
           0.000547645125958379,
           0.0002,
           0.0001326259946949602,
           0.0010615711252653928,
           0.00012903225806451613,
           0.00013875398917718884,
           0.00011261261261261261,
           0.000171939477303989,
           0.00011664528169835531,
           0.0001180637544273908,
           0.00020785699438786114,
           0.00002794779352170146,
           0.0001038961038961039,
           0.000196078431372549,
           0.00013227513227513228,
           0.00012987012987012987,
           0.00009444654325651681,
           0.0001490757304710793,
           0.000136986301369863,
           0.00019627085377821394,
           0.00016196954972465177,
           0.0001396843134515994,
           0.00012265423770391266,
           0.000196078431372549,
           0.00023169601482854495,
           0.0002,
           0.0002635740643120717,
           0.0000670690811535882,
           0.00013404825737265417,
           0.00013736263736263736,
           0.000779423226812159,
           0.00008888888888888889,
           0.00014660606949127694,
           0.00006622516556291391,
           0.0000991375037176564,
           0.00011614401858304297,
           0.0001165365342034728,
           0.0001388888888888889,
           0.0000760225026607876,
           0.00010055304172951231,
           0.00011904761904761905,
           0.00012840267077555214,
           0.00008632596685082873,
           0.000106928999144568,
           0.00025,
           0.00025,
           0.00015610365282547612,
           0.00012232415902140674,
           0.00012121212121212121,
           0.00012899896800825592,
           0.00025,
           0.00011883541295306001,
           0.000123334977799704,
           0.0002,
           0.00011621150493898897,
           0.0001457725947521866,
           0.0002,
           0.0008361204013377926,
           0.00005555555555555556,
           0.00016181229773462783,
           0.0001532567049808429,
           0.00010256410256410256,
           0.00011695906432748539,
           0.0001366120218579235,
           0.00006080875646093037,
           0.0001388888888888889,
           0.00004576659038901602,
           0.0001923076923076923,
           0.00004938271604938271,
           0.00020833333333333335,
           0.00011246063877642825,
           0.0001243781094527363,
           0.00015542430836182778,
           0.00016666666666666666,
           0.00009119095385737735,
           0.00024271844660194174,
           0.00013259082471492973,
           0.00016433853738701725,
           0.00010107135637760258,
           0.00005080268238162975,
           0.0006738544474393531,
           0.00025,
           0.00010404744563520966,
           0.00013157894736842105,
           0.00010579771476936098,
           0.00014322543683758235,
           0.0001817520901490367,
           0.00010845986984815618,
           0.00012036591237361579,
           0.00013484358144552318,
           0.0003003003003003003,
           0.00015384615384615385,
           0.00017988846914912754,
           0.00014388489208633093,
           0.0005694760820045558,
           0.0002463054187192118,
           0.00013020833333333333,
           0.0003721622627465575,
           0.0001529753709652746,
           0.00012953367875647668,
           0.00007421150278293135,
           0.00009523809523809524,
           0.00009796238244514106,
           0.00009259259259259259,
           0.00013333333333333334,
           0.00009340556697179151,
           0.00015870496746548166,
           0.00008361204013377926,
           0.000177430801987225,
           0.00013605442176870748,
           0.00021720243266724586,
           0.0008347245409015025,
           0.00019642506383814575,
           0.0002654632333421821,
           0.00013869625520110957,
           0.00013802622498274673,
           0.00016666666666666666,
           0.00025647601949217746,
           0.00019113149847094801,
           0.00011547344110854503,
           0.0001923076923076923,
           0.0001923076923076923,
           0.0001404297149276787,
           0.0001932367149758454,
           0.00016,
           0.00017593244194229416,
           0.00011757789535567314,
           0.0001374570446735395,
           0.0001339764201500536,
           0.00011978917105893628,
           0.00013520822065981613,
           0.00011337868480725624,
           0.00013368983957219252,
           0.000125,
           0.000125,
           0.00012055455093429777,
           0.00008054772452678212,
           0.0001147842056932966,
           0.0002103049421661409,
           0.00017161489617298782,
           0.00016,
           0.00012987012987012987,
           0.00013482540110556829,
           0.000005811858516116283,
           0.00007406310176270182,
           0.0001029336078229542,
           0.00010025062656641604,
           0.00013605442176870748,
           0.00025,
           0.000744047619047619,
           0.00007374631268436578,
           0.00012020675561966583,
           0.000018365472910927457,
           0.00014367816091954023,
           0.00017391304347826088,
           0.00010932546190007652,
           0.00010412328196584757,
           0.00013480722566729578,
           0.000064,
           0.00010964912280701755,
           0.00006666666666666667,
           0.00011695906432748539,
           0.00012531328320802005,
           0.00012367054167697255,
           0.00013377926421404682,
           0.00011764705882352942,
           0.0001159017153453871,
           0.00015527950310559007,
           0.0001299545159194282,
           0.00009377344336084021,
           0.00011904761904761905,
           0.00016666666666666666,
           0.0001858045336306206,
           0.0007209805335255948,
           0.0000983574309039048,
           0.000038948393378773126,
           0.000230361667818475,
           0.00009777082518576456,
           0.0002221235006663705,
           0.0001818181818181818,
           0.00012012012012012012,
           0.00006941552131056504,
           0.00009968102073365231,
           0.0002967359050445104,
           0.00014492753623188405,
           0.00013227513227513228,
           0.00011716461628588167,
           0.00016276041666666666,
           0.0001388888888888889,
           0.0001265022137887413,
           0.00011463945890175398,
           0.00014863258026159333,
           0.00007751937984496124,
           0.00010888501742160279,
           0.00014271442842871414,
           0.00034602076124567473,
           0.0001310272536687631,
           0.000004591368227731864,
           0.0001188212927756654,
           0.00023004370830457787,
           0.00009950248756218905,
           0.00015827793605571383,
           0.00014699397324709687,
           0.0000668493883280968,
           0.00012536041118214867,
           0.00011363636363636364,
           0.00009565716472163765,
           0.00016220600162206002,
           0.00011213276519398969,
           0.0001034233116144379,
           0.000002550760126517702,
           0.00010074551682450131,
           0.0001034233116144379,
           0.00015723270440251572,
           0.000010203040506070808,
           0.0001460067163089502,
           0.00013116474291710389,
           0.00008566044200788077,
           0.00013513513513513514,
           0.00013869625520110957,
           0.00006417661404184315,
           0.0002192982456140351,
           0.00009769441187964049,
           0.00010270103728047654,
           0.00010189525168127165
          ],
          "sizemode": "area",
          "sizeref": 0.0000047180938900684126
         },
         "mode": "markers",
         "name": "low",
         "showlegend": true,
         "subplot": "mapbox",
         "type": "scattermapbox"
        },
        {
         "customdata": [
          [
           339500,
           9145,
           98038
          ],
          [
           405000,
           8336,
           98133
          ],
          [
           365000,
           230868,
           98014
          ],
          [
           410000,
           4400,
           98065
          ],
          [
           350000,
           1503,
           98117
          ],
          [
           350000,
           5304,
           98118
          ],
          [
           375000,
           1113,
           98117
          ],
          [
           443000,
           1998,
           98126
          ],
          [
           335000,
           7346,
           98038
          ],
          [
           410000,
           4950,
           98042
          ],
          [
           324950,
           7440,
           98155
          ],
          [
           340000,
           8400,
           98045
          ],
          [
           333000,
           6584,
           98003
          ],
          [
           387990,
           5011,
           98038
          ],
          [
           390000,
           4961,
           98126
          ],
          [
           382000,
           4667,
           98028
          ],
          [
           393000,
           12988,
           98056
          ],
          [
           379000,
           10155,
           98030
          ],
          [
           355000,
           8125,
           98177
          ],
          [
           396000,
           4920,
           98117
          ],
          [
           389950,
           5500,
           98056
          ],
          [
           366000,
           9200,
           98011
          ],
          [
           360000,
           13500,
           98155
          ],
          [
           378500,
           7528,
           98115
          ],
          [
           367300,
           11360,
           98001
          ],
          [
           399950,
           10889,
           98053
          ],
          [
           415000,
           5494,
           98059
          ],
          [
           350000,
           8400,
           98056
          ],
          [
           400000,
           4800,
           98117
          ],
          [
           442573,
           8645,
           98034
          ],
          [
           440000,
           217800,
           98059
          ],
          [
           326000,
           7440,
           98155
          ],
          [
           400800,
           5750,
           98126
          ],
          [
           380000,
           1328,
           98144
          ],
          [
           398000,
           15180,
           98010
          ],
          [
           372000,
           15235,
           98019
          ],
          [
           359950,
           5772,
           98042
          ],
          [
           370000,
           1423,
           98133
          ],
          [
           375000,
           6512,
           98003
          ],
          [
           352000,
           39504,
           98059
          ],
          [
           350000,
           5428,
           98042
          ],
          [
           427000,
           9000,
           98177
          ],
          [
           429000,
           114728,
           98058
          ],
          [
           335000,
           7200,
           98106
          ],
          [
           439500,
           5790,
           98115
          ],
          [
           411753,
           3821,
           98053
          ],
          [
           397000,
           5284,
           98118
          ],
          [
           430000,
           6941,
           98125
          ],
          [
           449400,
           5064,
           98056
          ],
          [
           447000,
           8025,
           98177
          ],
          [
           384950,
           5311,
           98038
          ],
          [
           432500,
           1739,
           98144
          ],
          [
           419950,
           7920,
           98166
          ],
          [
           385000,
           8928,
           98125
          ],
          [
           357500,
           10200,
           98033
          ],
          [
           399000,
           4512,
           98112
          ],
          [
           415000,
           7330,
           98034
          ],
          [
           450000,
           8038,
           98059
          ],
          [
           324950,
           5742,
           98032
          ],
          [
           435000,
           3200,
           98059
          ],
          [
           435000,
           35508,
           98045
          ],
          [
           402000,
           5100,
           98117
          ],
          [
           399950,
           1939,
           98125
          ],
          [
           390000,
           3864,
           98058
          ],
          [
           327000,
           5046,
           98144
          ],
          [
           329900,
           4935,
           98038
          ],
          [
           450000,
           6305,
           98052
          ],
          [
           372400,
           9683,
           98031
          ],
          [
           430000,
           8089,
           98125
          ],
          [
           402000,
           5028,
           98136
          ],
          [
           450000,
           2250,
           98103
          ],
          [
           330000,
           9730,
           98002
          ],
          [
           334990,
           4157,
           98146
          ],
          [
           399950,
           1173,
           98102
          ],
          [
           357000,
           8127,
           98031
          ],
          [
           450000,
           1462,
           98144
          ],
          [
           413565,
           1619,
           98029
          ],
          [
           410000,
           1034,
           98115
          ],
          [
           397950,
           8160,
           98133
          ],
          [
           400000,
           7379,
           98034
          ],
          [
           355000,
           6346,
           98056
          ],
          [
           425500,
           2778,
           98052
          ],
          [
           364000,
           7255,
           98133
          ],
          [
           385000,
           5324,
           98108
          ],
          [
           389000,
           4601,
           98053
          ],
          [
           419000,
           4770,
           98059
          ],
          [
           325250,
           7628,
           98198
          ],
          [
           359500,
           11250,
           98023
          ],
          [
           448175,
           1339,
           98122
          ],
          [
           419000,
           4067,
           98065
          ],
          [
           442000,
           7214,
           98126
          ],
          [
           342000,
           4802,
           98038
          ],
          [
           393000,
           11717,
           98038
          ],
          [
           349950,
           7628,
           98198
          ],
          [
           337000,
           13500,
           98059
          ],
          [
           335606,
           4800,
           98092
          ],
          [
           427000,
           111078,
           98027
          ],
          [
           429000,
           37301,
           98027
          ],
          [
           439950,
           14600,
           98042
          ],
          [
           367500,
           9272,
           98177
          ],
          [
           358800,
           7245,
           98031
          ],
          [
           387000,
           1318,
           98103
          ],
          [
           365000,
           4800,
           98122
          ],
          [
           370000,
           4748,
           98042
          ],
          [
           408000,
           90860,
           98058
          ],
          [
           353750,
           7704,
           98166
          ],
          [
           408000,
           8125,
           98188
          ],
          [
           385000,
           4045,
           98053
          ],
          [
           441000,
           7500,
           98011
          ],
          [
           390000,
           4000,
           98102
          ],
          [
           378950,
           9450,
           98155
          ],
          [
           450000,
           5100,
           98115
          ],
          [
           350000,
           12630,
           98166
          ],
          [
           370000,
           7908,
           98034
          ],
          [
           449950,
           10783,
           98031
          ],
          [
           349900,
           4879,
           98038
          ],
          [
           419950,
           5866,
           98056
          ],
          [
           330000,
           7469,
           98058
          ],
          [
           396000,
           9757,
           98019
          ],
          [
           353000,
           1385,
           98122
          ],
          [
           322500,
           10565,
           98077
          ],
          [
           355000,
           5465,
           98019
          ],
          [
           445000,
           18096,
           98042
          ],
          [
           355000,
           5001,
           98125
          ],
          [
           361000,
           155073,
           98027
          ],
          [
           393500,
           8156,
           98155
          ],
          [
           392000,
           6600,
           98118
          ],
          [
           353500,
           8976,
           98125
          ],
          [
           430000,
           193842,
           98027
          ],
          [
           410000,
           4000,
           98126
          ],
          [
           360000,
           9600,
           98034
          ],
          [
           387000,
           51773,
           98065
          ],
          [
           385000,
           13300,
           98030
          ],
          [
           435000,
           10800,
           98024
          ],
          [
           342000,
           2140,
           98034
          ],
          [
           339000,
           7350,
           98030
          ],
          [
           450000,
           4080,
           98117
          ],
          [
           330000,
           7560,
           98126
          ],
          [
           345000,
           1465,
           98103
          ],
          [
           360000,
           17424,
           98059
          ],
          [
           323400,
           7820,
           98092
          ],
          [
           402500,
           5040,
           98118
          ],
          [
           344000,
           5199,
           98038
          ],
          [
           380000,
           2187,
           98115
          ],
          [
           345000,
           3920,
           98058
          ],
          [
           385000,
           5500,
           98031
          ],
          [
           326989,
           4200,
           98038
          ],
          [
           424950,
           7416,
           98034
          ],
          [
           430000,
           6000,
           98144
          ],
          [
           370000,
           17600,
           98059
          ],
          [
           400000,
           5925,
           98133
          ],
          [
           425000,
           14630,
           98027
          ],
          [
           420250,
           3657,
           98053
          ],
          [
           435000,
           1350,
           98103
          ],
          [
           350000,
           33600,
           98001
          ],
          [
           349500,
           3600,
           98122
          ],
          [
           380000,
           7990,
           98133
          ],
          [
           446000,
           2081,
           98122
          ],
          [
           450000,
           5234,
           98115
          ],
          [
           440000,
           1413,
           98115
          ],
          [
           420000,
           9033,
           98001
          ],
          [
           395000,
           6000,
           98038
          ],
          [
           394950,
           1850,
           98136
          ],
          [
           450000,
           4900,
           98118
          ],
          [
           370000,
           2632,
           98119
          ],
          [
           377000,
           8961,
           98031
          ],
          [
           359000,
           9519,
           98155
          ],
          [
           425000,
           5024,
           98117
          ],
          [
           415000,
           4179,
           98030
          ],
          [
           325000,
           10064,
           98077
          ],
          [
           340768,
           12070,
           98003
          ],
          [
           342000,
           12825,
           98042
          ],
          [
           429950,
           8006,
           98133
          ],
          [
           395000,
           4100,
           98199
          ],
          [
           404000,
           9044,
           98008
          ],
          [
           392000,
           7950,
           98034
          ],
          [
           371000,
           1311,
           98107
          ],
          [
           325000,
           2044,
           98144
          ],
          [
           346290,
           9240,
           98022
          ],
          [
           446250,
           68824,
           98045
          ],
          [
           425000,
           44431,
           98077
          ],
          [
           439950,
           221442,
           98019
          ],
          [
           425000,
           6625,
           98116
          ],
          [
           425000,
           13068,
           98052
          ],
          [
           400000,
           20023,
           98166
          ],
          [
           420000,
           8071,
           98034
          ],
          [
           370000,
           7201,
           98034
          ],
          [
           337000,
           29621,
           98010
          ],
          [
           384950,
           7740,
           98126
          ],
          [
           450000,
           1425,
           98122
          ],
          [
           399500,
           6769,
           98045
          ],
          [
           334000,
           7620,
           98166
          ],
          [
           325000,
           4260,
           98042
          ],
          [
           355000,
           6000,
           98144
          ],
          [
           330000,
           2594,
           98102
          ],
          [
           360000,
           6022,
           98108
          ],
          [
           380000,
           10918,
           98034
          ],
          [
           391000,
           2380,
           98126
          ],
          [
           347000,
           2128,
           98028
          ],
          [
           366500,
           8308,
           98155
          ],
          [
           440000,
           15120,
           98075
          ],
          [
           351358,
           1672,
           98029
          ],
          [
           448000,
           8450,
           98072
          ],
          [
           400000,
           8154,
           98133
          ],
          [
           334000,
           10101,
           98019
          ],
          [
           329000,
           5280,
           98146
          ],
          [
           416100,
           7200,
           98178
          ],
          [
           363990,
           4315,
           98038
          ],
          [
           345000,
           26337,
           98092
          ],
          [
           378000,
           1965,
           98133
          ],
          [
           425000,
           9744,
           98052
          ],
          [
           365000,
           5711,
           98168
          ],
          [
           408000,
           7500,
           98133
          ],
          [
           367500,
           7800,
           98155
          ],
          [
           430000,
           2800,
           98117
          ],
          [
           438000,
           7150,
           98034
          ],
          [
           450000,
           1892,
           98105
          ],
          [
           450000,
           6120,
           98115
          ],
          [
           375000,
           6036,
           98042
          ],
          [
           335000,
           3379,
           98178
          ],
          [
           435000,
           8100,
           98117
          ],
          [
           445000,
           5664,
           98115
          ],
          [
           376500,
           7800,
           98125
          ],
          [
           375000,
           6570,
           98178
          ],
          [
           430000,
           13588,
           98075
          ],
          [
           358000,
           30691,
           98070
          ],
          [
           396000,
           13950,
           98072
          ],
          [
           440000,
           8448,
           98052
          ],
          [
           401750,
           1888,
           98116
          ],
          [
           415000,
           1316,
           98117
          ],
          [
           396450,
           11508,
           98027
          ],
          [
           330000,
           9730,
           98077
          ],
          [
           395000,
           7085,
           98125
          ],
          [
           378000,
           11360,
           98045
          ],
          [
           344950,
           7275,
           98058
          ],
          [
           450000,
           3921,
           98053
          ],
          [
           394000,
           4400,
           98034
          ],
          [
           343000,
           10920,
           98198
          ],
          [
           390000,
           1992,
           98115
          ],
          [
           368000,
           6000,
           98136
          ],
          [
           436000,
           8102,
           98034
          ],
          [
           406000,
           9465,
           98056
          ],
          [
           383000,
           5845,
           98028
          ],
          [
           445000,
           3630,
           98103
          ],
          [
           415000,
           6392,
           98056
          ],
          [
           370000,
           7615,
           98058
          ],
          [
           427000,
           7920,
           98007
          ],
          [
           438500,
           3072,
           98144
          ],
          [
           440000,
           7401,
           98010
          ],
          [
           417000,
           5100,
           98117
          ],
          [
           416000,
           6014,
           98034
          ],
          [
           353000,
           11753,
           98030
          ],
          [
           389000,
           22400,
           98001
          ]
         ],
         "hovertemplate": "<b>%{hovertext}</b><br><br>price_ranges=middle<br>inverse sqft_lot15=%{marker.size}<br>lat=%{lat}<br>long=%{lon}<br>price=%{customdata[0]}<br>sqft_lot15=%{customdata[1]}<br>zipcode=%{customdata[2]}<extra></extra>",
         "hovertext": [
          9406550060,
          1755700090,
          1025079086,
          7853300770,
          1862400517,
          7186800120,
          6021503656,
          3278600900,
          705700140,
          2517010630,
          7568700175,
          8570900038,
          7212660640,
          3158500290,
          1781500180,
          982850020,
          7788000100,
          1509500380,
          2797500030,
          1588600177,
          422000075,
          1737320060,
          4024100496,
          5101405276,
          2595650170,
          8807300570,
          4187000660,
          1061500510,
          9268200440,
          3574801510,
          123059071,
          7568700525,
          952004745,
          3319500317,
          4067600255,
          2133020020,
          7885800900,
          6140100028,
          2345700500,
          4048400185,
          7140700850,
          7617500075,
          622069123,
          3624039150,
          446000020,
          7203101260,
          3335000050,
          9259900025,
          6669080020,
          5049800005,
          5416510200,
          3644100030,
          3055800020,
          7715600070,
          6608500260,
          9828701650,
          1138010510,
          2141500070,
          8946390150,
          1776230060,
          1422300100,
          7518503685,
          3753000030,
          9558010300,
          1624049275,
          2310110230,
          5422560860,
          1561910270,
          8902000068,
          1090000005,
          4310700665,
          4223400050,
          7694200070,
          2025049203,
          6752601110,
          567000755,
          8929000360,
          9528103443,
          626049102,
          3574801720,
          4307330280,
          7525211410,
          2644900149,
          7529500030,
          8682291510,
          5126300510,
          7523850150,
          4166600473,
          9187200228,
          7852180650,
          293000165,
          2781240040,
          4123810090,
          5153100030,
          5095400760,
          3845100140,
          8645900080,
          5561400140,
          5469502660,
          7019000050,
          522059352,
          1972200382,
          9126101201,
          5641300220,
          722069057,
          2934800025,
          8073900070,
          7203140420,
          1387300940,
          9390700100,
          6139100056,
          7920100025,
          3541600235,
          2592400400,
          6305900350,
          2780910100,
          8044050040,
          1402600040,
          3782400040,
          6003000851,
          1771000440,
          8724300030,
          2722059185,
          1454100056,
          3324079092,
          3995700250,
          2660500365,
          2826049108,
          3224079105,
          9297301520,
          3760000020,
          7462900015,
          3308030060,
          1524079156,
          7941130110,
          3826500290,
          9165100130,
          4364700105,
          993002177,
          5095400630,
          8097000250,
          8113100850,
          9406530150,
          3188100007,
          9558041130,
          1622059088,
          255450400,
          9477101280,
          5393600562,
          7230300060,
          7017200110,
          5706200170,
          8682290100,
          1972202010,
          3751604974,
          7960100260,
          9561100010,
          1934800087,
          5102400025,
          8024200685,
          2085700050,
          2781230230,
          7625703357,
          1183000005,
          2771602450,
          3235390100,
          5589300435,
          3727800065,
          1085623250,
          1771110070,
          5151900110,
          5467900070,
          3299200075,
          2771101251,
          4037500110,
          2297400020,
          2767604551,
          1523300140,
          5416100190,
          2623089002,
          9492800020,
          1626079012,
          5013500110,
          1925069183,
          1200021,
          7016300050,
          1138000070,
          421069081,
          4365200865,
          9826701201,
          8572900135,
          2968801085,
          2517000700,
          1498300775,
          952006728,
          4174600055,
          1974300020,
          3278612450,
          3582750280,
          7304300570,
          924069190,
          8929000060,
          7214820610,
          7283900306,
          1326069191,
          254000735,
          4058800500,
          7237450550,
          3410600100,
          6130500070,
          1842200040,
          3361402066,
          5220300140,
          6632900574,
          2028701165,
          2592400470,
          3179100482,
          6844702630,
          3166900200,
          7813500040,
          106000015,
          442000015,
          6381500065,
          9368700006,
          6791100280,
          1269200150,
          1775800800,
          193600200,
          952007141,
          2267000453,
          3424069066,
          1771000970,
          6381500720,
          9407101840,
          1328330510,
          8682292020,
          7940710070,
          8643000210,
          5100400251,
          2461900492,
          7905380280,
          3205100010,
          114101055,
          9136103027,
          8011100095,
          2597670080,
          4039300810,
          7319900345,
          2140950130,
          7518505160,
          8663260030,
          2022059308,
          3422049088
         ],
         "lat": [
          47.3644,
          47.7457,
          47.6668,
          47.5384,
          47.6959,
          47.5488,
          47.6835,
          47.5487,
          47.3826,
          47.4011,
          47.7402,
          47.4991,
          47.2697,
          47.3551,
          47.5275,
          47.7611,
          47.5172,
          47.3842,
          47.7695,
          47.6945,
          47.496,
          47.7687,
          47.7516,
          47.6997,
          47.3535,
          47.6738,
          47.4937,
          47.5017,
          47.6944,
          47.7314,
          47.5157,
          47.7376,
          47.56399999999999,
          47.6007,
          47.3364,
          47.7317,
          47.3492,
          47.715,
          47.2612,
          47.4703,
          47.3835,
          47.7676,
          47.4164,
          47.5181,
          47.6878,
          47.6968,
          47.5565,
          47.7179,
          47.5139,
          47.705,
          47.3607,
          47.5917,
          47.4544,
          47.7183,
          47.7012,
          47.6212,
          47.7148,
          47.4881,
          47.3693,
          47.5048,
          47.4614,
          47.6765,
          47.7175,
          47.4507,
          47.5704,
          47.3503,
          47.6644,
          47.4185,
          47.7053,
          47.5322,
          47.7005,
          47.2909,
          47.5014,
          47.6413,
          47.3982,
          47.5926,
          47.5524,
          47.678,
          47.7635,
          47.7315,
          47.4811,
          47.6345,
          47.7772,
          47.5525,
          47.7199,
          47.4819,
          47.3788,
          47.3305,
          47.6021,
          47.5308,
          47.5325,
          47.3538,
          47.3751,
          47.38399999999999,
          47.4695,
          47.2584,
          47.4487,
          47.463,
          47.3762,
          47.7608,
          47.4204,
          47.6529,
          47.6084,
          47.3705,
          47.4129,
          47.4544,
          47.431,
          47.6875,
          47.7357,
          47.6357,
          47.7615,
          47.6787,
          47.4781,
          47.7159,
          47.3904,
          47.3531,
          47.50899999999999,
          47.4406,
          47.7341,
          47.61600000000001,
          47.7429,
          47.7318,
          47.369,
          47.7232,
          47.5157,
          47.7397,
          47.5553,
          47.7171,
          47.5262,
          47.5657,
          47.708,
          47.5124,
          47.3637,
          47.5669,
          47.7151,
          47.3821,
          47.6825,
          47.5281,
          47.6908,
          47.4719,
          47.32100000000001,
          47.5462,
          47.3626,
          47.6902,
          47.4521,
          47.3931,
          47.3706,
          47.7326,
          47.5825,
          47.4712,
          47.7099,
          47.5272,
          47.7225,
          47.6525,
          47.2755,
          47.6099,
          47.7586,
          47.6039,
          47.6947,
          47.699,
          47.3185,
          47.3479,
          47.5477,
          47.5536,
          47.6374,
          47.3886,
          47.7522,
          47.6833,
          47.341,
          47.7562,
          47.3347,
          47.3672,
          47.7453,
          47.6544,
          47.6074,
          47.7184,
          47.6711,
          47.5943,
          47.1896,
          47.4525,
          47.739,
          47.7329,
          47.5736,
          47.6366,
          47.4434,
          47.7404,
          47.7126,
          47.3326,
          47.522,
          47.602,
          47.4943,
          47.4578,
          47.3989,
          47.5844,
          47.5617,
          47.5588,
          47.7089,
          47.5436,
          47.752,
          47.7416,
          47.5882,
          47.5526,
          47.7572,
          47.7634,
          47.7347,
          47.5122,
          47.5091,
          47.3551,
          47.302,
          47.7108,
          47.6686,
          47.49800000000001,
          47.7346,
          47.7372,
          47.6764,
          47.7162,
          47.6692,
          47.6926,
          47.3515,
          47.489,
          47.701,
          47.6897,
          47.7326,
          47.5055,
          47.57899999999999,
          47.3933,
          47.7415,
          47.6849,
          47.5619,
          47.6907,
          47.5172,
          47.7419,
          47.7309,
          47.4491,
          47.4428,
          47.7196,
          47.7139,
          47.3966,
          47.6911,
          47.5534,
          47.72,
          47.5409,
          47.7688,
          47.6653,
          47.4947,
          47.4237,
          47.6075,
          47.5772,
          47.3139,
          47.6773,
          47.7188,
          47.3744,
          47.3547
         ],
         "legendgroup": "middle",
         "lon": [
          -122.04,
          -122.332,
          -121.892,
          -121.889,
          -122.376,
          -122.287,
          -122.387,
          -122.372,
          -122.028,
          -122.164,
          -122.323,
          -121.783,
          -122.312,
          -122.054,
          -122.381,
          -122.233,
          -122.17,
          -122.17,
          -122.359,
          -122.368,
          -122.169,
          -122.223,
          -122.299,
          -122.305,
          -122.273,
          -122.063,
          -122.15,
          -122.165,
          -122.366,
          -122.225,
          -122.107,
          -122.322,
          -122.379,
          -122.305,
          -122.033,
          -121.964,
          -122.152,
          -122.355,
          -122.294,
          -122.076,
          -122.095,
          -122.373,
          -122.092,
          -122.364,
          -122.285,
          -122.024,
          -122.275,
          -122.316,
          -122.189,
          -122.367,
          -122.038,
          -122.296,
          -122.36,
          -122.306,
          -122.167,
          -122.296,
          -122.213,
          -122.142,
          -122.286,
          -122.154,
          -121.709,
          -122.381,
          -122.284,
          -122.12,
          -122.294,
          -122.039,
          -122.13,
          -122.212,
          -122.303,
          -122.392,
          -122.339,
          -122.219,
          -122.341,
          -122.329,
          -122.172,
          -122.296,
          -121.998,
          -122.322,
          -122.335,
          -122.226,
          -122.182,
          -122.108,
          -122.357,
          -122.3,
          -122.022,
          -122.14,
          -122.316,
          -122.371,
          -122.295,
          -121.853,
          -122.378,
          -122.021,
          -122.044,
          -122.322,
          -122.07,
          -122.196,
          -121.981,
          -122.008,
          -122.16,
          -122.361,
          -122.201,
          -122.355,
          -122.304,
          -122.131,
          -122.08,
          -122.357,
          -122.285,
          -122.015,
          -122.195,
          -122.322,
          -122.329,
          -122.301,
          -122.357,
          -122.165,
          -122.178,
          -122.021,
          -122.166,
          -122.139,
          -121.981,
          -122.314,
          -122.072,
          -121.982,
          -122.156,
          -122.289,
          -121.924,
          -122.3,
          -122.288,
          -122.307,
          -121.943,
          -122.376,
          -122.216,
          -121.866,
          -122.21,
          -121.905,
          -122.203,
          -122.171,
          -122.391,
          -122.375,
          -122.341,
          -122.074,
          -122.185,
          -122.277,
          -122.04,
          -122.306,
          -122.121,
          -122.183,
          -122.017,
          -122.194,
          -122.313,
          -122.112,
          -122.35,
          -122.044,
          -122.029,
          -122.345,
          -122.271,
          -122.297,
          -122.342,
          -122.307,
          -122.323,
          -122.317,
          -122.262,
          -122.028,
          -122.388,
          -122.286,
          -122.375,
          -122.188,
          -122.307,
          -122.395,
          -122.179,
          -122.073,
          -122.325,
          -122.151,
          -122.351,
          -122.386,
          -122.125,
          -122.226,
          -122.377,
          -122.299,
          -122.014,
          -121.748,
          -122.048,
          -121.92,
          -122.393,
          -122.094,
          -122.347,
          -122.186,
          -122.211,
          -122.046,
          -122.375,
          -122.306,
          -121.789,
          -122.351,
          -122.164,
          -122.316,
          -122.385,
          -122.301,
          -122.241,
          -122.369,
          -122.253,
          -122.32,
          -122.052,
          -121.998,
          -122.147,
          -122.35,
          -121.976,
          -122.383,
          -122.241,
          -122.061,
          -122.123,
          -122.332,
          -122.153,
          -122.321,
          -122.352,
          -122.316,
          -122.366,
          -122.166,
          -122.279,
          -122.287,
          -122.134,
          -122.249,
          -122.368,
          -122.285,
          -122.307,
          -122.26,
          -122.051,
          -122.454,
          -122.101,
          -122.117,
          -122.382,
          -122.395,
          -122.027,
          -122.073,
          -122.305,
          -121.78,
          -122.134,
          -122.024,
          -122.203,
          -122.308,
          -122.313,
          -122.382,
          -122.216,
          -122.18,
          -122.238,
          -122.338,
          -122.174,
          -122.162,
          -122.134,
          -122.307,
          -122.024,
          -122.382,
          -122.177,
          -122.19,
          -122.285
         ],
         "marker": {
          "color": "#F58518",
          "size": [
           0.00010934937124111536,
           0.0001199616122840691,
           0.0000043314794601244,
           0.00022727272727272727,
           0.0006653359946773121,
           0.0001885369532428356,
           0.0008984725965858042,
           0.0005005005005005005,
           0.0001361285053090117,
           0.00020202020202020202,
           0.00013440860215053763,
           0.00011904761904761905,
           0.00015188335358444713,
           0.00019956096587507485,
           0.00020157226365652087,
           0.00021427040925648167,
           0.0000769941484447182,
           0.00009847365829640571,
           0.00012307692307692307,
           0.0002032520325203252,
           0.0001818181818181818,
           0.00010869565217391305,
           0.00007407407407407407,
           0.00013283740701381508,
           0.00008802816901408451,
           0.0000918357975939021,
           0.00018201674554058973,
           0.00011904761904761905,
           0.00020833333333333335,
           0.0001156737998843262,
           0.000004591368227731864,
           0.00013440860215053763,
           0.00017391304347826088,
           0.0007530120481927711,
           0.00006587615283267457,
           0.00006563833278634722,
           0.00017325017325017325,
           0.0007027406886858749,
           0.00015356265356265356,
           0.000025313892264074525,
           0.00018422991893883567,
           0.00011111111111111112,
           0.000008716268042674849,
           0.0001388888888888889,
           0.00017271157167530224,
           0.00026171159382360636,
           0.00018925056775170325,
           0.00014407145944388418,
           0.00019747235387045813,
           0.00012461059190031152,
           0.00018828845791752966,
           0.0005750431282346176,
           0.00012626262626262626,
           0.00011200716845878136,
           0.0000980392156862745,
           0.00022163120567375886,
           0.00013642564802182812,
           0.0001244090569793481,
           0.00017415534656913968,
           0.0003125,
           0.00002816266756787203,
           0.000196078431372549,
           0.0005157297576070139,
           0.0002587991718426501,
           0.00019817677368212446,
           0.00020263424518743666,
           0.00015860428231562253,
           0.00010327377878756583,
           0.00012362467548522686,
           0.0001988862370723946,
           0.00044444444444444447,
           0.00010277492291880781,
           0.00024055809477988935,
           0.0008525149190110827,
           0.00012304663467454166,
           0.0006839945280437756,
           0.0006176652254478073,
           0.0009671179883945841,
           0.00012254901960784314,
           0.0001355197181189863,
           0.0001575795776867318,
           0.0003599712023038157,
           0.00013783597518952445,
           0.00018782870022539445,
           0.00021734405564007825,
           0.00020964360587002095,
           0.00013109596224436288,
           0.00008888888888888889,
           0.0007468259895444362,
           0.00024588148512417015,
           0.0001386193512614361,
           0.00020824656393169514,
           0.00008534607834769993,
           0.00013109596224436288,
           0.00007407407407407407,
           0.00020833333333333335,
           0.000009002682799474243,
           0.000026808932736387765,
           0.0000684931506849315,
           0.00010785159620362382,
           0.00013802622498274673,
           0.0007587253414264037,
           0.00020833333333333335,
           0.00021061499578770007,
           0.00001100594320933304,
           0.00012980269989615784,
           0.00012307692307692307,
           0.00024721878862793575,
           0.00013333333333333334,
           0.00025,
           0.00010582010582010582,
           0.000196078431372549,
           0.00007917656373713381,
           0.00012645422357106728,
           0.00009273856997125104,
           0.00020496003279360525,
           0.00017047391749062393,
           0.00013388673182487614,
           0.00010249051962693452,
           0.0007220216606498195,
           0.0000946521533364884,
           0.00018298261665141812,
           0.000055260831122900086,
           0.0001999600079984003,
           0.000006448575832027496,
           0.00012260912211868564,
           0.00015151515151515152,
           0.00011140819964349375,
           0.000005158840705316702,
           0.00025,
           0.00010416666666666667,
           0.000019315087014467,
           0.00007518796992481203,
           0.00009259259259259259,
           0.00046728971962616824,
           0.00013605442176870748,
           0.00024509803921568627,
           0.00013227513227513228,
           0.0006825938566552901,
           0.0000573921028466483,
           0.0001278772378516624,
           0.0001984126984126984,
           0.00019234468166955183,
           0.0004572473708276177,
           0.00025510204081632655,
           0.0001818181818181818,
           0.0002380952380952381,
           0.00013484358144552318,
           0.00016666666666666666,
           0.00005681818181818182,
           0.00016877637130801687,
           0.0000683526999316473,
           0.00027344818156959256,
           0.0007407407407407407,
           0.000029761904761904762,
           0.0002777777777777778,
           0.00012515644555694618,
           0.0004805382027871216,
           0.00019105846388995032,
           0.0007077140835102619,
           0.00011070519207350825,
           0.00016666666666666666,
           0.0005405405405405405,
           0.00020408163265306123,
           0.00037993920972644377,
           0.00011159468809284678,
           0.00010505305179115453,
           0.00019904458598726116,
           0.00023929169657812874,
           0.00009936406995230525,
           0.00008285004142502072,
           0.00007797270955165692,
           0.00012490632025980515,
           0.00024390243902439024,
           0.00011057054400707652,
           0.00012578616352201257,
           0.0007627765064836003,
           0.0004892367906066536,
           0.00010822510822510823,
           0.0000145298151807509,
           0.00002250680830951363,
           0.000004515855167493068,
           0.0001509433962264151,
           0.00007652280379553107,
           0.0000499425660490436,
           0.00012390038409119069,
           0.00013886960144424384,
           0.000033759832551230545,
           0.00012919896640826872,
           0.0007017543859649122,
           0.00014773230905599054,
           0.00013123359580052493,
           0.00023474178403755868,
           0.00016666666666666666,
           0.00038550501156515033,
           0.00016605778811026238,
           0.00009159186664224217,
           0.0004201680672268908,
           0.00046992481203007516,
           0.00012036591237361579,
           0.00006613756613756614,
           0.0005980861244019139,
           0.00011834319526627219,
           0.0001226391954868776,
           0.000099000099000099,
           0.0001893939393939394,
           0.0001388888888888889,
           0.0002317497103128621,
           0.00003796939666628697,
           0.0005089058524173028,
           0.00010262725779967159,
           0.0001751006828926633,
           0.00013333333333333334,
           0.0001282051282051282,
           0.00035714285714285714,
           0.00013986013986013986,
           0.0005285412262156448,
           0.0001633986928104575,
           0.0001656726308813784,
           0.0002959455460195324,
           0.0001234567901234568,
           0.00017655367231638418,
           0.0001282051282051282,
           0.00015220700152207003,
           0.00007359434795407713,
           0.00003258284187546838,
           0.00007168458781362007,
           0.00011837121212121212,
           0.0005296610169491525,
           0.0007598784194528875,
           0.00008689607229753215,
           0.00010277492291880781,
           0.00014114326040931546,
           0.00008802816901408451,
           0.0001374570446735395,
           0.0002550369803621525,
           0.00022727272727272727,
           0.00009157509157509158,
           0.000502008032128514,
           0.00016666666666666666,
           0.00012342631449024932,
           0.00010565240359218173,
           0.00017108639863130882,
           0.0002754820936639118,
           0.00015644555694618273,
           0.0001313197636244255,
           0.00012626262626262626,
           0.0003255208333333333,
           0.00013511687609782462,
           0.000196078431372549,
           0.00016627868307283005,
           0.00008508465923593976,
           0.00004464285714285714
          ],
          "sizemode": "area",
          "sizeref": 0.0000047180938900684126
         },
         "mode": "markers",
         "name": "middle",
         "showlegend": true,
         "subplot": "mapbox",
         "type": "scattermapbox"
        },
        {
         "customdata": [
          [
           490600,
           11447,
           98023
          ],
          [
           590000,
           6150,
           98116
          ],
          [
           585000,
           8227,
           98125
          ],
          [
           532500,
           10240,
           98008
          ],
          [
           619000,
           1283,
           98103
          ],
          [
           511100,
           12220,
           98027
          ],
          [
           610000,
           5000,
           98116
          ],
          [
           600000,
           8535,
           98059
          ],
          [
           565000,
           9612,
           98155
          ],
          [
           643950,
           1618,
           98116
          ],
          [
           505657,
           6154,
           98045
          ],
          [
           634800,
           5004,
           98053
          ],
          [
           594000,
           5000,
           98115
          ],
          [
           499000,
           10120,
           98146
          ],
          [
           550000,
           3900,
           98105
          ],
          [
           645000,
           10241,
           98125
          ],
          [
           600000,
           6175,
           98115
          ],
          [
           542000,
           4080,
           98105
          ],
          [
           479000,
           1026,
           98118
          ],
          [
           521000,
           40635,
           98053
          ],
          [
           479000,
           3446,
           98053
          ],
          [
           634950,
           4820,
           98117
          ],
          [
           465000,
           7326,
           98103
          ],
          [
           549000,
           5877,
           98059
          ],
          [
           511000,
           6920,
           98092
          ],
          [
           480000,
           3060,
           98115
          ],
          [
           605000,
           4933,
           98108
          ],
          [
           505000,
           7653,
           98117
          ],
          [
           615000,
           11798,
           98074
          ],
          [
           582500,
           4800,
           98199
          ],
          [
           527000,
           10055,
           98011
          ],
          [
           605000,
           5904,
           98103
          ],
          [
           595000,
           3960,
           98144
          ],
          [
           580000,
           39280,
           98053
          ],
          [
           535000,
           29004,
           98077
          ],
          [
           453500,
           23345,
           98059
          ],
          [
           585000,
           9821,
           98056
          ],
          [
           573300,
           7370,
           98136
          ],
          [
           480000,
           4120,
           98117
          ],
          [
           510000,
           9363,
           98052
          ],
          [
           630000,
           8800,
           98008
          ],
          [
           565000,
           9880,
           98008
          ],
          [
           495000,
           6380,
           98115
          ],
          [
           500000,
           7600,
           98052
          ],
          [
           530000,
           7903,
           98006
          ],
          [
           465000,
           3348,
           98118
          ],
          [
           557800,
           6000,
           98199
          ],
          [
           525000,
           4000,
           98118
          ],
          [
           640000,
           14849,
           98027
          ],
          [
           458000,
           7500,
           98125
          ],
          [
           570000,
           8750,
           98155
          ],
          [
           607500,
           4700,
           98117
          ],
          [
           492450,
           10098,
           98074
          ],
          [
           625000,
           5000,
           98116
          ],
          [
           467000,
           8040,
           98125
          ],
          [
           640000,
           4080,
           98115
          ],
          [
           510000,
           18948,
           98023
          ],
          [
           604000,
           24967,
           98023
          ],
          [
           590000,
           5109,
           98115
          ],
          [
           475000,
           4000,
           98199
          ],
          [
           470000,
           54707,
           98155
          ],
          [
           620000,
           5763,
           98136
          ],
          [
           478000,
           8496,
           98008
          ],
          [
           495800,
           4455,
           98115
          ],
          [
           575000,
           10454,
           98034
          ],
          [
           490000,
           7266,
           98125
          ],
          [
           485000,
           2700,
           98115
          ],
          [
           480000,
           10000,
           98003
          ],
          [
           504600,
           5009,
           98103
          ],
          [
           499950,
           6000,
           98118
          ],
          [
           626100,
           7471,
           98029
          ],
          [
           471000,
           5100,
           98117
          ],
          [
           637000,
           7868,
           98052
          ],
          [
           466750,
           7311,
           98125
          ],
          [
           622000,
           6840,
           98117
          ],
          [
           453000,
           1558,
           98107
          ],
          [
           463500,
           5000,
           98118
          ],
          [
           480000,
           9005,
           98133
          ],
          [
           500000,
           9350,
           98033
          ],
          [
           542000,
           2755,
           98008
          ],
          [
           529950,
           8760,
           98052
          ],
          [
           575000,
           60548,
           98027
          ],
          [
           480000,
           1188,
           98103
          ],
          [
           507000,
           7393,
           98092
          ],
          [
           471000,
           4000,
           98105
          ],
          [
           632000,
           8204,
           98011
          ],
          [
           549950,
           13458,
           98074
          ],
          [
           544000,
           6047,
           98116
          ],
          [
           551000,
           5100,
           98117
          ],
          [
           455000,
           9600,
           98011
          ],
          [
           575000,
           6207,
           98126
          ],
          [
           515000,
           5747,
           98065
          ],
          [
           545000,
           4000,
           98105
          ],
          [
           535000,
           5700,
           98117
          ],
          [
           522500,
           7752,
           98065
          ],
          [
           530000,
           4080,
           98144
          ],
          [
           608000,
           3600,
           98119
          ],
          [
           560000,
           9782,
           98034
          ],
          [
           645000,
           24008,
           98003
          ],
          [
           626000,
           7222,
           98029
          ],
          [
           450600,
           7072,
           98136
          ],
          [
           565000,
           11551,
           98005
          ],
          [
           572000,
           5143,
           98053
          ],
          [
           460000,
           5000,
           98103
          ],
          [
           600000,
           49222,
           98077
          ],
          [
           507000,
           14092,
           98155
          ],
          [
           608000,
           2198,
           98116
          ],
          [
           538500,
           4205,
           98065
          ],
          [
           475200,
           2897,
           98027
          ],
          [
           515000,
           23564,
           98008
          ],
          [
           567000,
           15186,
           98177
          ],
          [
           584999,
           20908,
           98075
          ],
          [
           480000,
           9780,
           98125
          ],
          [
           480000,
           4427,
           98065
          ],
          [
           514500,
           12085,
           98003
          ],
          [
           485000,
           6000,
           98199
          ],
          [
           475000,
           8296,
           98133
          ],
          [
           515000,
           4798,
           98065
          ],
          [
           571000,
           9900,
           98166
          ],
          [
           583000,
           10000,
           98006
          ],
          [
           579000,
           18540,
           98177
          ],
          [
           610000,
           9380,
           98004
          ],
          [
           535000,
           4593,
           98117
          ],
          [
           468000,
           10032,
           98011
          ],
          [
           575000,
           4698,
           98126
          ],
          [
           610000,
           9660,
           98006
          ],
          [
           635000,
           8918,
           98177
          ],
          [
           491500,
           4322,
           98029
          ],
          [
           500000,
           5015,
           98065
          ],
          [
           638000,
           5400,
           98107
          ],
          [
           643500,
           7104,
           98177
          ],
          [
           560000,
           5750,
           98116
          ],
          [
           515000,
           8400,
           98006
          ],
          [
           505000,
           165963,
           98053
          ],
          [
           571500,
           6061,
           98029
          ],
          [
           585000,
           1286,
           98029
          ],
          [
           495000,
           5500,
           98055
          ],
          [
           499000,
           3669,
           98029
          ],
          [
           506000,
           8000,
           98008
          ],
          [
           500000,
           6370,
           98136
          ],
          [
           548500,
           4400,
           98122
          ],
          [
           590000,
           2370,
           98122
          ],
          [
           499990,
           10000,
           98052
          ],
          [
           593500,
           41684,
           98027
          ],
          [
           499950,
           8817,
           98133
          ],
          [
           470000,
           36184,
           98027
          ],
          [
           558000,
           4500,
           98053
          ],
          [
           477000,
           8700,
           98118
          ],
          [
           553000,
           6250,
           98136
          ],
          [
           489000,
           9132,
           98188
          ],
          [
           570000,
           6526,
           98136
          ],
          [
           535000,
           12178,
           98188
          ],
          [
           631000,
           2400,
           98122
          ],
          [
           560000,
           108463,
           98092
          ],
          [
           530000,
           7743,
           98133
          ],
          [
           500000,
           1581,
           98122
          ],
          [
           475000,
           7000,
           98007
          ],
          [
           451000,
           10125,
           98155
          ],
          [
           510000,
           4000,
           98103
          ],
          [
           483000,
           6786,
           98116
          ],
          [
           470000,
           3706,
           98122
          ],
          [
           502000,
           9000,
           98034
          ],
          [
           500000,
           4680,
           98133
          ],
          [
           600000,
           18919,
           98070
          ],
          [
           478000,
           45302,
           98027
          ],
          [
           550000,
           4080,
           98144
          ],
          [
           549010,
           4141,
           98117
          ],
          [
           608000,
           3400,
           98103
          ],
          [
           625000,
           6036,
           98065
          ],
          [
           471000,
           2898,
           98027
          ],
          [
           525000,
           8800,
           98007
          ],
          [
           627000,
           5347,
           98075
          ],
          [
           529219,
           8198,
           98008
          ],
          [
           462000,
           8190,
           98007
          ],
          [
           454200,
           5379,
           98059
          ],
          [
           463000,
           14040,
           98019
          ],
          [
           515000,
           1728,
           98122
          ],
          [
           605000,
           10800,
           98004
          ],
          [
           539000,
           9551,
           98074
          ],
          [
           550000,
           10878,
           98027
          ],
          [
           489000,
           1850,
           98107
          ],
          [
           525000,
           2512,
           98103
          ],
          [
           462608,
           1689,
           98029
          ],
          [
           599950,
           13181,
           98028
          ],
          [
           600000,
           8327,
           98052
          ],
          [
           589410,
           5260,
           98065
          ],
          [
           550000,
           2400,
           98102
          ],
          [
           585000,
           8199,
           98008
          ],
          [
           540000,
           6700,
           98103
          ],
          [
           465000,
           3175,
           98144
          ],
          [
           565000,
           1501,
           98103
          ],
          [
           555000,
           6150,
           98116
          ],
          [
           600000,
           5000,
           98107
          ],
          [
           631000,
           5715,
           98055
          ],
          [
           645000,
           8955,
           98074
          ],
          [
           585000,
           7075,
           98065
          ],
          [
           518000,
           7680,
           98118
          ],
          [
           620000,
           8178,
           98029
          ],
          [
           510000,
           9750,
           98033
          ],
          [
           572500,
           10000,
           98052
          ],
          [
           515000,
           8050,
           98052
          ],
          [
           520000,
           11933,
           98028
          ],
          [
           635000,
           26427,
           98053
          ],
          [
           515000,
           6140,
           98059
          ],
          [
           500000,
           36677,
           98075
          ],
          [
           539950,
           5250,
           98065
          ],
          [
           629950,
           1618,
           98119
          ],
          [
           499500,
           56628,
           98019
          ],
          [
           490000,
           6380,
           98125
          ],
          [
           475000,
           7200,
           98133
          ],
          [
           575000,
           5000,
           98117
          ],
          [
           488000,
           21618,
           98045
          ],
          [
           480000,
           11600,
           98166
          ],
          [
           451000,
           7210,
           98008
          ],
          [
           499000,
           2788,
           98199
          ],
          [
           533000,
           6872,
           98038
          ],
          [
           488000,
           4581,
           98072
          ],
          [
           595888,
           8160,
           98177
          ],
          [
           452000,
           4000,
           98117
          ],
          [
           597400,
           4500,
           98053
          ],
          [
           580000,
           8515,
           98033
          ],
          [
           475000,
           11727,
           98052
          ],
          [
           589450,
           7255,
           98038
          ],
          [
           610000,
           4715,
           98053
          ],
          [
           601000,
           3840,
           98122
          ],
          [
           491000,
           7800,
           98008
          ],
          [
           459500,
           8972,
           98155
          ],
          [
           519000,
           4518,
           98059
          ],
          [
           525000,
           9199,
           98188
          ],
          [
           480000,
           8400,
           98008
          ],
          [
           511555,
           7960,
           98008
          ],
          [
           480000,
           41221,
           98077
          ],
          [
           629000,
           18893,
           98023
          ],
          [
           544300,
           8848,
           98052
          ],
          [
           459995,
           4136,
           98059
          ],
          [
           520000,
           6380,
           98115
          ],
          [
           460000,
           4000,
           98199
          ],
          [
           456000,
           7333,
           98052
          ],
          [
           620000,
           3420,
           98103
          ]
         ],
         "hovertemplate": "<b>%{hovertext}</b><br><br>price_ranges=high<br>inverse sqft_lot15=%{marker.size}<br>lat=%{lat}<br>long=%{lon}<br>price=%{customdata[0]}<br>sqft_lot15=%{customdata[1]}<br>zipcode=%{customdata[2]}<extra></extra>",
         "hovertext": [
          7298000090,
          5505700030,
          2568300210,
          4046400440,
          1972200553,
          5706202070,
          2313900810,
          847100046,
          4022900652,
          952005863,
          1442880570,
          7202340930,
          6392002635,
          7784400185,
          3589500260,
          1455600030,
          2215500205,
          9550204515,
          1702900664,
          8121610110,
          7202330530,
          7589200191,
          3226049530,
          4305600040,
          7695370160,
          3658700690,
          3959400645,
          1862400226,
          7504020400,
          4235401055,
          626059335,
          625049318,
          2460900020,
          7511200350,
          826069184,
          7229800175,
          3342700405,
          34001540,
          1646502165,
          6421100592,
          4038700930,
          4038800580,
          5100402668,
          9430110030,
          1951700700,
          3330500075,
          6821100090,
          1231000660,
          3324069058,
          8901001170,
          2597000130,
          6021502750,
          3578400950,
          585000095,
          6798100070,
          9547200460,
          1321720160,
          587550340,
          8024201870,
          2771603314,
          1154100515,
          2493200040,
          4037400430,
          2979801095,
          3026059363,
          2826049106,
          2887701940,
          5152960330,
          3226049565,
          7950303290,
          8078350100,
          7518505610,
          1795920250,
          9259900010,
          3526039101,
          2768300650,
          1112000125,
          4358700135,
          1245500691,
          8857320120,
          1828000760,
          1523069072,
          9521100280,
          2111011060,
          9191200435,
          6137610190,
          6600220150,
          148000035,
          7518503830,
          8096600100,
          1781500435,
          7853320030,
          7731100066,
          2922701175,
          7852170370,
          9834200030,
          2652500210,
          6977000080,
          921049141,
          8078380090,
          2815600235,
          3584900160,
          8682260610,
          625049313,
          1626069069,
          4019301500,
          6372000297,
          7852090180,
          9286100150,
          3625059140,
          3918400097,
          424069130,
          2026049067,
          7852030330,
          5152980070,
          1370803940,
          7952800010,
          7852090810,
          5072400100,
          9346920070,
          6649900301,
          682000030,
          8082400100,
          3798000130,
          4321200580,
          643300210,
          2639400020,
          3904901840,
          7852130460,
          1176000964,
          868000415,
          9274202165,
          6071700020,
          2525069041,
          3905081530,
          3630240140,
          3185600055,
          3630030180,
          4037000160,
          7625704500,
          6840701095,
          7228500425,
          3395300260,
          5561400740,
          641900050,
          5561000430,
          8682291680,
          1102000196,
          2461900760,
          7844200415,
          65000400,
          239000115,
          2197600451,
          1921069082,
          2783100230,
          7234600832,
          2207100165,
          4025300135,
          6815100095,
          7905200381,
          5366200330,
          8651710190,
          6150700005,
          1822039138,
          2294900010,
          9834200885,
          6021502300,
          4083802425,
          7853310150,
          9286100320,
          4039400410,
          6127010670,
          8563000520,
          1944900090,
          3449900090,
          1472800220,
          9126100814,
          5739601300,
          8651510380,
          5706200370,
          2767704603,
          1931300955,
          8929000040,
          3583300075,
          1842300050,
          7853400220,
          6003501535,
          8563000470,
          3626039268,
          5312100060,
          3362400092,
          2600300110,
          2769600480,
          3023059071,
          8077210230,
          7853240560,
          1102001055,
          8079100210,
          3888100117,
          3066200460,
          23500190,
          5631500369,
          6979900080,
          1137410040,
          6843300090,
          7853300070,
          2770604081,
          1626079132,
          5101406441,
          6140100095,
          3693901801,
          3956100190,
          2927600675,
          259801140,
          6821101762,
          8857640170,
          8946400100,
          2287600035,
          3300701285,
          7202270700,
          1238501098,
          2561360120,
          5104531290,
          7202260300,
          7960100030,
          7375100070,
          3972300100,
          9211010260,
          7844200425,
          4038200480,
          7922800160,
          926069142,
          121039083,
          9512501370,
          1438000430,
          5101402482,
          2771604370,
          5490210200,
          4083304835
         ],
         "lat": [
          47.3036,
          47.5713,
          47.7015,
          47.5931,
          47.6536,
          47.5287,
          47.5723,
          47.4865,
          47.7757,
          47.5633,
          47.4834,
          47.6802,
          47.6843,
          47.4909,
          47.6699,
          47.7293,
          47.6878,
          47.6663,
          47.5594,
          47.6608,
          47.6824,
          47.6891,
          47.6945,
          47.4804,
          47.3427,
          47.679,
          47.5648,
          47.697,
          47.6307,
          47.6592,
          47.7663,
          47.6878,
          47.5936,
          47.6536,
          47.7573,
          47.4739,
          47.5265,
          47.53100000000001,
          47.6842,
          47.6705,
          47.6146,
          47.6141,
          47.6942,
          47.685,
          47.5424,
          47.5532,
          47.6567,
          47.5554,
          47.5241,
          47.7105,
          47.7657,
          47.6858,
          47.6231,
          47.5828,
          47.7133,
          47.6768,
          47.2911,
          47.3256,
          47.6996,
          47.6386,
          47.7555,
          47.5279,
          47.6052,
          47.6847,
          47.7044,
          47.7191,
          47.6856,
          47.3436,
          47.6931,
          47.5635,
          47.5719,
          47.6779,
          47.7266,
          47.7181,
          47.6965,
          47.6666,
          47.54,
          47.7076,
          47.6937,
          47.6104,
          47.6554,
          47.4776,
          47.6619,
          47.3324,
          47.6706,
          47.7704,
          47.6305,
          47.5768,
          47.6769,
          47.7675,
          47.5256,
          47.5209,
          47.6708,
          47.6881,
          47.5427,
          47.5745,
          47.6422,
          47.7099,
          47.3207,
          47.5709,
          47.5513,
          47.5901,
          47.7142,
          47.6897,
          47.7369,
          47.7574,
          47.5809,
          47.536,
          47.5317,
          47.6069,
          47.7158,
          47.5945,
          47.726000000000006,
          47.5329,
          47.3424,
          47.6413,
          47.7387,
          47.5346,
          47.4434,
          47.5624,
          47.7767,
          47.6075,
          47.6822,
          47.7633,
          47.5723,
          47.5676,
          47.7256,
          47.5672,
          47.5352,
          47.6692,
          47.7053,
          47.5889,
          47.5484,
          47.6277,
          47.5702,
          47.5444,
          47.4871,
          47.5495,
          47.603,
          47.5434,
          47.6059,
          47.6108,
          47.6478,
          47.4615,
          47.7595,
          47.4612,
          47.7196,
          47.5458,
          47.5514,
          47.4286,
          47.5446,
          47.4282,
          47.6051,
          47.295,
          47.7567,
          47.6112,
          47.5984,
          47.749,
          47.6854,
          47.5705,
          47.6088,
          47.7271,
          47.7289,
          47.3905,
          47.4734,
          47.572,
          47.6863,
          47.6624,
          47.523,
          47.5305,
          47.606,
          47.5933,
          47.6236,
          47.6101,
          47.4977,
          47.7321,
          47.605,
          47.6021,
          47.6491,
          47.5246,
          47.6727,
          47.6557,
          47.5528,
          47.7422,
          47.6696,
          47.5165,
          47.6209,
          47.6228,
          47.6958,
          47.5726,
          47.6828,
          47.559,
          47.6729,
          47.4496,
          47.6283,
          47.5408,
          47.5433,
          47.5648,
          47.6811,
          47.6517,
          47.6913,
          47.7399,
          47.6306,
          47.5012,
          47.5913,
          47.5369,
          47.6425,
          47.743,
          47.7015,
          47.715,
          47.6771,
          47.4831,
          47.4519,
          47.6286,
          47.6513,
          47.3888,
          47.7511,
          47.7203,
          47.6916,
          47.6874,
          47.68600000000001,
          47.7017,
          47.353,
          47.688,
          47.6103,
          47.5996,
          47.7686,
          47.4944,
          47.4286,
          47.6112,
          47.58600000000001,
          47.7568,
          47.3311,
          47.6707,
          47.4786,
          47.6956,
          47.6368,
          47.6955,
          47.6528
         ],
         "legendgroup": "high",
         "lon": [
          -122.34,
          -122.394,
          -122.301,
          -122.116,
          -122.354,
          -122.053,
          -122.382,
          -122.143,
          -122.295,
          -122.385,
          -121.773,
          -122.033,
          -122.283,
          -122.363,
          -122.317,
          -122.284,
          -122.286,
          -122.326,
          -122.285,
          -122.035,
          -122.036,
          -122.375,
          -122.33,
          -122.126,
          -122.169,
          -122.315,
          -122.316,
          -122.37,
          -122.051,
          -122.399,
          -122.215,
          -122.342,
          -122.301,
          -122.045,
          -122.07,
          -122.114,
          -122.202,
          -122.39,
          -122.359,
          -122.138,
          -122.114,
          -122.116,
          -122.319,
          -122.158,
          -122.168,
          -122.277,
          -122.399,
          -122.266,
          -122.039,
          -122.306,
          -122.272,
          -122.385,
          -122.044,
          -122.396,
          -122.308,
          -122.31,
          -122.342,
          -122.378,
          -122.31,
          -122.388,
          -122.289,
          -122.387,
          -122.126,
          -122.318,
          -122.209,
          -122.309,
          -122.312,
          -122.323,
          -122.33,
          -122.282,
          -122.021,
          -122.384,
          -122.103,
          -122.316,
          -122.393,
          -122.367,
          -122.269,
          -122.337,
          -122.213,
          -122.113,
          -122.129,
          -122.02,
          -122.352,
          -122.168,
          -122.3,
          -122.196,
          -122.034,
          -122.403,
          -122.381,
          -122.226,
          -122.38,
          -121.874,
          -122.297,
          -122.367,
          -121.863,
          -122.291,
          -122.36,
          -122.229,
          -122.293,
          -122.018,
          -122.394,
          -122.167,
          -122.033,
          -122.337,
          -122.049,
          -122.279,
          -122.403,
          -121.877,
          -122.047,
          -122.112,
          -122.366,
          -122.056,
          -122.316,
          -121.879,
          -122.329,
          -122.401,
          -122.337,
          -121.875,
          -122.343,
          -122.135,
          -122.369,
          -122.2,
          -122.399,
          -122.199,
          -122.376,
          -122.177,
          -122.367,
          -122.018,
          -121.88,
          -122.399,
          -122.374,
          -122.389,
          -122.172,
          -121.972,
          -121.995,
          -122.014,
          -122.219,
          -121.997,
          -122.12,
          -122.388,
          -122.3,
          -122.303,
          -122.113,
          -122,
          -122.356,
          -121.992,
          -122.022,
          -122.268,
          -122.385,
          -122.291,
          -122.382,
          -122.28,
          -122.319,
          -122.086,
          -122.333,
          -122.309,
          -122.147,
          -122.305,
          -122.329,
          -122.392,
          -122.293,
          -122.215,
          -122.335,
          -122.462,
          -121.999,
          -122.29,
          -122.382,
          -122.336,
          -121.875,
          -122.047,
          -122.135,
          -122.007,
          -122.103,
          -122.138,
          -122.163,
          -121.964,
          -122.304,
          -122.202,
          -122.061,
          -122.044,
          -122.373,
          -122.348,
          -121.999,
          -122.257,
          -122.149,
          -121.883,
          -122.317,
          -122.104,
          -122.357,
          -122.305,
          -122.346,
          -122.397,
          -122.363,
          -122.209,
          -122.026,
          -121.861,
          -122.264,
          -122.01,
          -122.169,
          -122.124,
          -122.115,
          -122.234,
          -121.968,
          -122.15,
          -122.012,
          -121.888,
          -122.374,
          -121.925,
          -122.317,
          -122.354,
          -122.398,
          -121.767,
          -122.375,
          -122.118,
          -122.4,
          -122.032,
          -122.17,
          -122.361,
          -122.379,
          -122.037,
          -122.185,
          -122.127,
          -122.002,
          -122.038,
          -122.297,
          -122.12,
          -122.317,
          -122.149,
          -122.292,
          -122.128,
          -122.12,
          -122.05,
          -122.375,
          -122.149,
          -122.123,
          -122.303,
          -122.388,
          -122.116,
          -122.331
         ],
         "marker": {
          "color": "#E45756",
          "size": [
           0.0000873591333973967,
           0.00016260162601626016,
           0.00012155099064057372,
           0.00009765625,
           0.000779423226812159,
           0.00008183306055646482,
           0.0002,
           0.00011716461628588167,
           0.00010403662089055348,
           0.0006180469715698393,
           0.00016249593760155997,
           0.00019984012789768185,
           0.0002,
           0.00009881422924901186,
           0.0002564102564102564,
           0.00009764671418806757,
           0.00016194331983805668,
           0.00024509803921568627,
           0.0009746588693957114,
           0.00002460932693490833,
           0.0002901915264074289,
           0.0002074688796680498,
           0.0001365001365001365,
           0.00017015484090522376,
           0.00014450867052023122,
           0.000326797385620915,
           0.00020271639975674033,
           0.00013066771200836272,
           0.00008476012883539582,
           0.00020833333333333335,
           0.00009945300845350572,
           0.00016937669376693767,
           0.0002525252525252525,
           0.000025458248472505093,
           0.00003447800303406427,
           0.000042835724994645534,
           0.00010182262498727217,
           0.000135685210312076,
           0.00024271844660194174,
           0.00010680337498664957,
           0.00011363636363636364,
           0.00010121457489878542,
           0.00015673981191222572,
           0.00013157894736842105,
           0.00012653422750854106,
           0.0002986857825567503,
           0.00016666666666666666,
           0.00025,
           0.00006734460233012324,
           0.00013333333333333334,
           0.00011428571428571428,
           0.0002127659574468085,
           0.00009902951079421667,
           0.0002,
           0.0001243781094527363,
           0.00024509803921568627,
           0.00005277601857715854,
           0.00004005286978812032,
           0.00019573302016050108,
           0.00025,
           0.00001827919644652421,
           0.00017352073572791948,
           0.00011770244821092278,
           0.0002244668911335578,
           0.00009565716472163765,
           0.00013762730525736306,
           0.00037037037037037035,
           0.0001,
           0.00019964064683569574,
           0.00016666666666666666,
           0.0001338508901084192,
           0.000196078431372549,
           0.00012709710218607016,
           0.0001367801942278758,
           0.00014619883040935673,
           0.0006418485237483953,
           0.0002,
           0.0001110494169905608,
           0.000106951871657754,
           0.0003629764065335753,
           0.00011415525114155251,
           0.000016515822157627006,
           0.0008417508417508417,
           0.00013526308670363857,
           0.00025,
           0.00012189176011701609,
           0.0000743052459503641,
           0.000165371258475277,
           0.000196078431372549,
           0.00010416666666666667,
           0.00016110842597067828,
           0.00017400382808421786,
           0.00025,
           0.00017543859649122806,
           0.00012899896800825592,
           0.00024509803921568627,
           0.0002777777777777778,
           0.00010222858311183807,
           0.00004165278240586471,
           0.00013846579894765993,
           0.0001414027149321267,
           0.00008657259111765215,
           0.00019443904335990667,
           0.0002,
           0.000020316118808662795,
           0.0000709622480840193,
           0.00045495905368516835,
           0.00023781212841854935,
           0.00034518467380048324,
           0.000042437616703445933,
           0.00006585012511523772,
           0.000047828582360818826,
           0.00010224948875255624,
           0.00022588660492432798,
           0.00008274720728175425,
           0.00016666666666666666,
           0.00012054001928640309,
           0.00020842017507294707,
           0.00010101010101010101,
           0.0001,
           0.00005393743257820928,
           0.00010660980810234541,
           0.00021772262138036142,
           0.00009968102073365231,
           0.00021285653469561516,
           0.00010351966873706004,
           0.00011213276519398969,
           0.00023137436372049977,
           0.00019940179461615153,
           0.00018518518518518518,
           0.00014076576576576576,
           0.00017391304347826088,
           0.00011904761904761905,
           0.000006025439405168622,
           0.00016498927569707968,
           0.0007776049766718507,
           0.0001818181818181818,
           0.0002725538293813028,
           0.000125,
           0.00015698587127158556,
           0.00022727272727272727,
           0.0004219409282700422,
           0.0001,
           0.000023990020151616926,
           0.00011341726210729273,
           0.000027636524430687598,
           0.00022222222222222223,
           0.00011494252873563218,
           0.00016,
           0.00010950503723171266,
           0.00015323322096230462,
           0.00008211528986697323,
           0.0004166666666666667,
           0.000009219733918479112,
           0.00012914890869172155,
           0.0006325110689437065,
           0.00014285714285714287,
           0.00009876543209876543,
           0.00025,
           0.00014736221632773356,
           0.0002698327037236913,
           0.00011111111111111112,
           0.00021367521367521368,
           0.000052856916327501456,
           0.000022074080614542405,
           0.00024509803921568627,
           0.0002414875633904854,
           0.0002941176470588235,
           0.0001656726308813784,
           0.0003450655624568668,
           0.00011363636363636364,
           0.0001870207593042828,
           0.00012198097096852891,
           0.0001221001221001221,
           0.00018590816136828406,
           0.00007122507122507122,
           0.0005787037037037037,
           0.00009259259259259259,
           0.00010470107842110774,
           0.00009192866335723479,
           0.0005405405405405405,
           0.0003980891719745223,
           0.0005920663114268798,
           0.00007586677793794098,
           0.00012009126936471719,
           0.00019011406844106463,
           0.0004166666666666667,
           0.00012196609342602757,
           0.00014925373134328358,
           0.00031496062992125983,
           0.0006662225183211193,
           0.00016260162601626016,
           0.0002,
           0.00017497812773403323,
           0.00011166945840312674,
           0.0001413427561837456,
           0.00013020833333333333,
           0.00012227928588897041,
           0.00010256410256410256,
           0.0001,
           0.00012422360248447205,
           0.00008380122349786307,
           0.00003784008778900367,
           0.00016286644951140066,
           0.00002726504348774436,
           0.00019047619047619048,
           0.0006180469715698393,
           0.000017659108568199476,
           0.00015673981191222572,
           0.0001388888888888889,
           0.0002,
           0.00004625774817281895,
           0.00008620689655172413,
           0.00013869625520110957,
           0.0003586800573888092,
           0.00014551804423748544,
           0.00021829294913774285,
           0.00012254901960784314,
           0.00025,
           0.00022222222222222223,
           0.00011743981209630065,
           0.00008527330092947898,
           0.00013783597518952445,
           0.00021208907741251324,
           0.00026041666666666666,
           0.0001282051282051282,
           0.00011145786892554614,
           0.0002213368747233289,
           0.00010870746820306555,
           0.00011904761904761905,
           0.0001256281407035176,
           0.000024259479391572255,
           0.000052929656486529405,
           0.00011301989150090416,
           0.00024177949709864604,
           0.00015673981191222572,
           0.00025,
           0.00013636983499249966,
           0.00029239766081871346
          ],
          "sizemode": "area",
          "sizeref": 0.0000047180938900684126
         },
         "mode": "markers",
         "name": "high",
         "showlegend": true,
         "subplot": "mapbox",
         "type": "scattermapbox"
        },
        {
         "customdata": [
          [
           688100,
           9540,
           98052
          ],
          [
           1110000,
           12587,
           98065
          ],
          [
           2300000,
           12821,
           98004
          ],
          [
           1010000,
           4960,
           98117
          ],
          [
           914500,
           10856,
           98075
          ],
          [
           818000,
           5000,
           98053
          ],
          [
           796500,
           8469,
           98006
          ],
          [
           1250000,
           15600,
           98006
          ],
          [
           710000,
           10240,
           98005
          ],
          [
           655000,
           7200,
           98118
          ],
          [
           768500,
           10400,
           98005
          ],
          [
           728000,
           4000,
           98112
          ],
          [
           1300000,
           9480,
           98105
          ],
          [
           729000,
           30280,
           98177
          ],
          [
           827000,
           10200,
           98006
          ],
          [
           883000,
           6240,
           98112
          ],
          [
           702500,
           4500,
           98103
          ],
          [
           800000,
           37891,
           98077
          ],
          [
           775000,
           81698,
           98072
          ],
          [
           775000,
           5000,
           98117
          ],
          [
           695000,
           4240,
           98103
          ],
          [
           1070000,
           7140,
           98136
          ],
          [
           755000,
           15046,
           98166
          ],
          [
           800000,
           114562,
           98045
          ],
          [
           775000,
           7195,
           98125
          ],
          [
           685100,
           6453,
           98074
          ],
          [
           1090000,
           13555,
           98040
          ],
          [
           1200000,
           4500,
           98115
          ],
          [
           925000,
           10625,
           98006
          ],
          [
           975000,
           5820,
           98005
          ],
          [
           1280000,
           9417,
           98059
          ],
          [
           1600000,
           33210,
           98006
          ],
          [
           1000000,
           4500,
           98103
          ],
          [
           2480000,
           7500,
           98102
          ],
          [
           850000,
           6500,
           98136
          ],
          [
           875000,
           9453,
           98033
          ],
          [
           990000,
           4000,
           98199
          ],
          [
           716000,
           8132,
           98029
          ],
          [
           1240000,
           10324,
           98006
          ],
          [
           1070000,
           8107,
           98146
          ],
          [
           740000,
           28945,
           98053
          ],
          [
           1250000,
           8113,
           98004
          ],
          [
           995000,
           64468,
           98072
          ],
          [
           850000,
           5564,
           98052
          ],
          [
           678500,
           6600,
           98136
          ],
          [
           835000,
           6546,
           98074
          ],
          [
           653000,
           8640,
           98038
          ],
          [
           879000,
           54014,
           98077
          ],
          [
           649000,
           13633,
           98042
          ],
          [
           725000,
           7367,
           98056
          ],
          [
           675000,
           6912,
           98117
          ],
          [
           666500,
           6723,
           98074
          ],
          [
           2450000,
           11490,
           98040
          ],
          [
           900000,
           44431,
           98007
          ],
          [
           910000,
           8400,
           98118
          ],
          [
           1270000,
           9520,
           98004
          ],
          [
           1060000,
           13810,
           98077
          ],
          [
           668750,
           10856,
           98177
          ],
          [
           1440000,
           13335,
           98006
          ],
          [
           810000,
           10008,
           98006
          ],
          [
           850000,
           6750,
           98053
          ],
          [
           725000,
           7900,
           98116
          ],
          [
           980000,
           11470,
           98040
          ],
          [
           825000,
           3150,
           98103
          ],
          [
           935000,
           977,
           98119
          ],
          [
           895000,
           3740,
           98115
          ],
          [
           658588,
           35395,
           98027
          ],
          [
           679000,
           4480,
           98105
          ],
          [
           941000,
           3825,
           98105
          ],
          [
           825000,
           4000,
           98029
          ],
          [
           740000,
           5890,
           98053
          ],
          [
           676101,
           5987,
           98115
          ],
          [
           928950,
           10108,
           98006
          ],
          [
           760000,
           1209,
           98112
          ],
          [
           850000,
           3600,
           98112
          ],
          [
           960000,
           9327,
           98006
          ],
          [
           849000,
           7920,
           98177
          ],
          [
           780000,
           13475,
           98040
          ],
          [
           1140000,
           15542,
           98075
          ],
          [
           962800,
           10210,
           98006
          ],
          [
           1710000,
           9486,
           98033
          ],
          [
           667750,
           4080,
           98105
          ],
          [
           860000,
           9128,
           98004
          ],
          [
           1550000,
           20324,
           98004
          ],
          [
           750000,
           1676,
           98122
          ],
          [
           1850000,
           8200,
           98122
          ],
          [
           866059,
           5439,
           98006
          ],
          [
           975000,
           5814,
           98115
          ],
          [
           1900000,
           38211,
           98074
          ],
          [
           692500,
           8475,
           98034
          ],
          [
           1350000,
           19009,
           98006
          ],
          [
           750000,
           13851,
           98075
          ],
          [
           950000,
           10021,
           98006
          ],
          [
           1550000,
           211267,
           98024
          ],
          [
           845950,
           9750,
           98011
          ],
          [
           671500,
           4000,
           98105
          ],
          [
           859950,
           7602,
           98074
          ],
          [
           672000,
           23650,
           98053
          ],
          [
           790000,
           8598,
           98053
          ],
          [
           855000,
           2600,
           98117
          ],
          [
           995000,
           8214,
           98177
          ],
          [
           900000,
           5100,
           98117
          ],
          [
           1120000,
           9000,
           98136
          ],
          [
           825000,
           9792,
           98146
          ],
          [
           1870000,
           12150,
           98039
          ],
          [
           712000,
           4442,
           98052
          ],
          [
           655000,
           5102,
           98199
          ],
          [
           675000,
           7790,
           98033
          ],
          [
           830000,
           6465,
           98075
          ],
          [
           840000,
           977,
           98119
          ],
          [
           705000,
           6600,
           98136
          ],
          [
           770000,
           19604,
           98006
          ],
          [
           800000,
           392040,
           98014
          ],
          [
           2580000,
           20440,
           98039
          ],
          [
           734500,
           7467,
           98052
          ],
          [
           715000,
           6200,
           98125
          ],
          [
           828950,
           5816,
           98027
          ],
          [
           826600,
           4000,
           98105
          ],
          [
           2700000,
           27295,
           98033
          ],
          [
           735000,
           5000,
           98029
          ],
          [
           825000,
           5000,
           98103
          ],
          [
           735000,
           5600,
           98075
          ],
          [
           725000,
           37194,
           98027
          ],
          [
           720000,
           4400,
           98122
          ],
          [
           708000,
           9750,
           98052
          ],
          [
           747000,
           5170,
           98115
          ],
          [
           760000,
           8601,
           98052
          ],
          [
           680000,
           35001,
           98077
          ],
          [
           888550,
           35926,
           98053
          ],
          [
           648000,
           9905,
           98029
          ],
          [
           725000,
           4000,
           98103
          ],
          [
           1620000,
           4000,
           98112
          ],
          [
           710000,
           10250,
           98005
          ],
          [
           1380000,
           7208,
           98074
          ],
          [
           899000,
           5772,
           98033
          ],
          [
           752000,
           10547,
           98059
          ],
          [
           680000,
           4000,
           98115
          ],
          [
           675000,
           5000,
           98116
          ],
          [
           680000,
           37431,
           98072
          ],
          [
           1150000,
           16078,
           98004
          ],
          [
           930000,
           6227,
           98052
          ],
          [
           760000,
           105415,
           98045
          ],
          [
           662500,
           10230,
           98008
          ],
          [
           716000,
           9780,
           98052
          ],
          [
           920000,
           9384,
           98004
          ],
          [
           1150000,
           12813,
           98065
          ],
          [
           1220000,
           3600,
           98109
          ],
          [
           1300000,
           62291,
           98053
          ],
          [
           2250000,
           9323,
           98112
          ],
          [
           875000,
           4559,
           98117
          ],
          [
           861111,
           7272,
           98074
          ],
          [
           810000,
           6891,
           98074
          ],
          [
           999000,
           12054,
           98007
          ],
          [
           1150000,
           8321,
           98006
          ],
          [
           782500,
           6051,
           98074
          ],
          [
           765000,
           2222,
           98117
          ],
          [
           1010000,
           14577,
           98065
          ],
          [
           1350000,
           72513,
           98070
          ],
          [
           850000,
           4225,
           98115
          ],
          [
           650000,
           7438,
           98065
          ],
          [
           1260000,
           4444,
           98116
          ],
          [
           908990,
           10038,
           98075
          ],
          [
           840000,
           7596,
           98116
          ],
          [
           745000,
           5001,
           98103
          ],
          [
           669888,
           7796,
           98059
          ],
          [
           1040000,
           10802,
           98004
          ],
          [
           1650000,
           7009,
           98074
          ],
          [
           900000,
           4300,
           98117
          ],
          [
           920000,
           4000,
           98122
          ],
          [
           1510000,
           20953,
           98040
          ],
          [
           699800,
           6600,
           98053
          ],
          [
           727000,
           4200,
           98112
          ],
          [
           2730000,
           6630,
           98144
          ],
          [
           895000,
           21673,
           98004
          ],
          [
           860000,
           5204,
           98075
          ],
          [
           699900,
           7302,
           98075
          ],
          [
           652450,
           10384,
           98006
          ],
          [
           820000,
           11538,
           98075
          ],
          [
           932800,
           7140,
           98115
          ],
          [
           960000,
           6000,
           98116
          ],
          [
           765000,
           22247,
           98038
          ],
          [
           760000,
           15500,
           98006
          ],
          [
           749950,
           123600,
           98053
          ],
          [
           741000,
           10125,
           98040
          ],
          [
           767250,
           4080,
           98115
          ],
          [
           799000,
           7488,
           98115
          ],
          [
           900000,
           217790,
           98092
          ],
          [
           849000,
           5023,
           98199
          ],
          [
           750000,
           12000,
           98074
          ],
          [
           1400000,
           18782,
           98008
          ],
          [
           815000,
           2165,
           98033
          ],
          [
           1200000,
           9436,
           98040
          ],
          [
           860000,
           10213,
           98075
          ],
          [
           1130000,
           14000,
           98005
          ],
          [
           655000,
           8197,
           98115
          ],
          [
           750000,
           6550,
           98116
          ],
          [
           775000,
           3600,
           98107
          ],
          [
           1240000,
           13726,
           98006
          ],
          [
           760000,
           4080,
           98144
          ],
          [
           657000,
           9286,
           98118
          ],
          [
           734000,
           3840,
           98103
          ],
          [
           689000,
           10807,
           98006
          ],
          [
           720000,
           10352,
           98006
          ],
          [
           1250000,
           45870,
           98005
          ],
          [
           832500,
           35894,
           98052
          ],
          [
           1190000,
           5000,
           98122
          ],
          [
           1230000,
           9300,
           98115
          ],
          [
           800000,
           18752,
           98077
          ],
          [
           687000,
           186846,
           98022
          ],
          [
           980000,
           5179,
           98105
          ],
          [
           686000,
           12474,
           98177
          ],
          [
           875000,
           8279,
           98074
          ],
          [
           3200000,
           6477,
           98199
          ],
          [
           655000,
           9474,
           98033
          ],
          [
           856600,
           10077,
           98005
          ],
          [
           1740000,
           26400,
           98177
          ],
          [
           675000,
           7230,
           98125
          ],
          [
           994000,
           7528,
           98074
          ],
          [
           700000,
           8580,
           98029
          ],
          [
           785000,
           4250,
           98112
          ],
          [
           788500,
           69696,
           98027
          ],
          [
           775000,
           5176,
           98052
          ],
          [
           849000,
           5152,
           98116
          ],
          [
           1680000,
           37525,
           98005
          ],
          [
           651000,
           4080,
           98105
          ],
          [
           994000,
           21950,
           98040
          ],
          [
           888990,
           5500,
           98074
          ],
          [
           749000,
           33976,
           98075
          ],
          [
           907687,
           5886,
           98075
          ],
          [
           730000,
           9587,
           98004
          ],
          [
           735000,
           7245,
           98005
          ],
          [
           822000,
           9588,
           98006
          ],
          [
           1380000,
           3990,
           98103
          ],
          [
           1030000,
           10957,
           98059
          ],
          [
           753000,
           7670,
           98115
          ],
          [
           728000,
           55657,
           98038
          ],
          [
           925000,
           7350,
           98040
          ],
          [
           1100000,
           4564,
           98112
          ],
          [
           859000,
           12200,
           98006
          ],
          [
           850000,
           3600,
           98119
          ],
          [
           899000,
           13062,
           98004
          ],
          [
           1740000,
           5000,
           98105
          ],
          [
           770000,
           35633,
           98052
          ],
          [
           660000,
           5750,
           98116
          ],
          [
           699000,
           6125,
           98199
          ],
          [
           650000,
           9609,
           98006
          ],
          [
           906000,
           6071,
           98105
          ],
          [
           4500000,
           23408,
           98155
          ],
          [
           1140000,
           6360,
           98136
          ],
          [
           825000,
           4000,
           98102
          ],
          [
           740000,
           9213,
           98027
          ],
          [
           924000,
           6624,
           98074
          ],
          [
           1080000,
           38325,
           98072
          ],
          [
           1460000,
           131007,
           98024
          ],
          [
           679000,
           4952,
           98115
          ],
          [
           1640000,
           33945,
           98004
          ],
          [
           1150000,
           10200,
           98008
          ],
          [
           710500,
           4400,
           98107
          ]
         ],
         "hovertemplate": "<b>%{hovertext}</b><br><br>price_ranges=very high<br>inverse sqft_lot15=%{marker.size}<br>lat=%{lat}<br>long=%{lon}<br>price=%{customdata[0]}<br>sqft_lot15=%{customdata[1]}<br>zipcode=%{customdata[2]}<extra></extra>",
         "hovertext": [
          2193330030,
          7851980260,
          4389200765,
          2880100160,
          9544700730,
          8682320090,
          4139440480,
          6065300570,
          9542850290,
          5249804510,
          2785000480,
          1778500015,
          9472200060,
          3585300410,
          3459600180,
          5317100325,
          8021700715,
          7574910860,
          126059097,
          2301400655,
          4083303815,
          3524039202,
          6117900010,
          2323089065,
          3935900030,
          3224600310,
          3317500030,
          1257200315,
          3459600330,
          686050100,
          7237500650,
          4139910160,
          9551200270,
          9831200500,
          7625704510,
          6400700389,
          6681500150,
          1150001270,
          2424059163,
          6329000070,
          203400090,
          2450000290,
          1526059051,
          6891100090,
          2483200060,
          8651611060,
          4127000095,
          926069140,
          318300040,
          4178900070,
          2819100140,
          8961980290,
          3623500205,
          865100055,
          5250300035,
          8085400355,
          624110110,
          7278700069,
          4139430250,
          4139440100,
          8682230760,
          148000590,
          8566100200,
          3362400640,
          1732800199,
          1868900675,
          7880000060,
          8827901060,
          9550204590,
          2597490140,
          8682300640,
          3178100065,
          2024059130,
          9828702890,
          4385700765,
          4139440830,
          868000175,
          5452800735,
          724069065,
          8965410150,
          4100500070,
          3856904655,
          2925059294,
          6448600060,
          7234601440,
          5026900235,
          4139680070,
          425049146,
          2025069140,
          3558900590,
          713500030,
          629400340,
          3224500240,
          8678500060,
          745530040,
          2436701180,
          2862500070,
          203100625,
          7202360760,
          7518507055,
          7154200070,
          7518508625,
          2346800461,
          6329000385,
          3262300818,
          9510910050,
          871001365,
          1245500725,
          8691400010,
          1732800194,
          2484700155,
          7856640180,
          2725079018,
          2260300060,
          9348700020,
          4077800026,
          629890070,
          9191200490,
          625059036,
          3629970130,
          455000190,
          8691410700,
          2616800480,
          9839300285,
          1313000240,
          2754700095,
          325059277,
          1853000400,
          9290850330,
          3904920980,
          9521101015,
          2288900140,
          2330000035,
          1561750040,
          3885802136,
          5415350480,
          8815400735,
          7465900205,
          2426059076,
          3323500010,
          2869200110,
          1623089086,
          4037200075,
          7526800040,
          8085400410,
          7852070210,
          2652501470,
          7237550130,
          4386700135,
          8082400076,
          6453550090,
          1853080180,
          3425059141,
          1854750010,
          4379400220,
          3052700385,
          7852160310,
          822039084,
          9222400605,
          7853240660,
          9273200145,
          8691450120,
          2391601445,
          3912000020,
          7135521530,
          2025059150,
          777100005,
          3052700921,
          4141800030,
          46100204,
          8682300890,
          6788200360,
          5249800010,
          686800070,
          424069275,
          8691370400,
          6072760670,
          8691330260,
          5363200200,
          5135000050,
          5103300020,
          2141330050,
          8647600020,
          4457300135,
          9106000050,
          5210200077,
          3521059134,
          1370802770,
          7504000510,
          9253900408,
          9808640090,
          6648150090,
          8691330060,
          9542100005,
          130000175,
          1818800144,
          7986400945,
          715010110,
          9834200555,
          8835400805,
          2919200665,
          4036100175,
          9323610180,
          2125059123,
          7732500700,
          7424700145,
          8923100125,
          7701961220,
          619079016,
          5364200620,
          7611200086,
          255400070,
          1068000375,
          3764500090,
          9542300320,
          3585901025,
          4077800094,
          1437580480,
          1150000400,
          8712100720,
          2723069082,
          9510970300,
          1563102880,
          1329000030,
          9550204450,
          7511000140,
          293070120,
          424069264,
          7768800270,
          711000070,
          3260000570,
          2592210150,
          4083306045,
          6061500130,
          7101100055,
          1122069019,
          5458800125,
          3592500340,
          1777600850,
          2397101055,
          9808700370,
          4219400520,
          1115750190,
          9274202885,
          8127700445,
          2592200030,
          5606000120,
          7738500731,
          3524039209,
          2663000580,
          9545260100,
          1853080130,
          3407700012,
          98300230,
          5499700045,
          7787400030,
          6641040100,
          6610000320
         ],
         "lat": [
          47.6915,
          47.5373,
          47.6154,
          47.6782,
          47.5818,
          47.7095,
          47.5527,
          47.5697,
          47.5916,
          47.5597,
          47.6069,
          47.6205,
          47.6665,
          47.7648,
          47.562,
          47.6215,
          47.6923,
          47.7418,
          47.7717,
          47.6802,
          47.654,
          47.5257,
          47.4294,
          47.4626,
          47.7108,
          47.6085,
          47.56100000000001,
          47.6725,
          47.5612,
          47.5932,
          47.5282,
          47.5461,
          47.6705,
          47.6285,
          47.5437,
          47.6689,
          47.6451,
          47.5622,
          47.5476,
          47.5027,
          47.6328,
          47.5812,
          47.7344,
          47.7077,
          47.5215,
          47.6346,
          47.372,
          47.7557,
          47.3632,
          47.5374,
          47.6962,
          47.6067,
          47.5722,
          47.6042,
          47.5682,
          47.6363,
          47.7295,
          47.7728,
          47.5496,
          47.5535,
          47.7112,
          47.5731,
          47.5368,
          47.682,
          47.632,
          47.6727,
          47.4871,
          47.6691,
          47.6659,
          47.5429,
          47.7161,
          47.6743,
          47.554,
          47.621,
          47.6374,
          47.5531,
          47.7081,
          47.5416,
          47.5844,
          47.559,
          47.664,
          47.6696,
          47.6217,
          47.6275,
          47.6134,
          47.61600000000001,
          47.5664,
          47.6772,
          47.6318,
          47.7089,
          47.5543,
          47.5879,
          47.5617,
          47.5954,
          47.7336,
          47.667,
          47.6236,
          47.6384,
          47.6785,
          47.6775,
          47.7764,
          47.6803,
          47.5144,
          47.5018,
          47.6351,
          47.6627,
          47.6514,
          47.6919,
          47.5977,
          47.6321,
          47.5237,
          47.5708,
          47.6285,
          47.6242,
          47.7042,
          47.7081,
          47.5528,
          47.6702,
          47.6803,
          47.5527,
          47.6717,
          47.5968,
          47.4782,
          47.614,
          47.6354,
          47.6801,
          47.679,
          47.7304,
          47.6892,
          47.5672,
          47.6631,
          47.6385,
          47.6118,
          47.6018,
          47.6853,
          47.5333,
          47.6732,
          47.5721,
          47.7258,
          47.6201,
          47.6702,
          47.4803,
          47.6061,
          47.6388,
          47.6354,
          47.5443,
          47.6405,
          47.6587,
          47.6415,
          47.6822,
          47.606,
          47.5933,
          47.6029,
          47.5642,
          47.6219,
          47.679,
          47.5364,
          47.4041,
          47.6736,
          47.5401,
          47.5909,
          47.5975,
          47.5624,
          47.6909,
          47.5302,
          47.63399999999999,
          47.6163,
          47.678,
          47.615,
          47.5673,
          47.717,
          47.6412,
          47.5703,
          47.6336,
          47.5953,
          47.5985,
          47.563,
          47.5945,
          47.6919,
          47.5706,
          47.4579,
          47.5564,
          47.6101,
          47.5697,
          47.6742,
          47.6978,
          47.2604,
          47.6381,
          47.6318,
          47.5895,
          47.6506,
          47.5769,
          47.5945,
          47.5919,
          47.7004,
          47.5714,
          47.6641,
          47.5388,
          47.5733,
          47.5445,
          47.6875,
          47.5606,
          47.5561,
          47.6451,
          47.7302,
          47.6162,
          47.6792,
          47.7123,
          47.1593,
          47.6615,
          47.7145,
          47.6039,
          47.6427,
          47.6947,
          47.5987,
          47.7624,
          47.7065,
          47.611,
          47.56100000000001,
          47.6378,
          47.4569,
          47.6649,
          47.5662,
          47.6406,
          47.6662,
          47.547,
          47.6181,
          47.5937,
          47.5756,
          47.5923,
          47.6045,
          47.5476,
          47.6497,
          47.5294,
          47.6738,
          47.4028,
          47.5786,
          47.6348,
          47.5681,
          47.637,
          47.6497,
          47.6565,
          47.7213,
          47.5848,
          47.6416,
          47.5491,
          47.6653,
          47.7493,
          47.5232,
          47.6259,
          47.535,
          47.5935,
          47.7375,
          47.5885,
          47.6809,
          47.6003,
          47.5905,
          47.6608
         ],
         "legendgroup": "very high",
         "lon": [
          -122.099,
          -121.865,
          -122.21,
          -122.365,
          -121.996,
          -122.019,
          -122.12,
          -122.182,
          -122.166,
          -122.267,
          -122.167,
          -122.291,
          -122.27,
          -122.37,
          -122.146,
          -122.29,
          -122.332,
          -122.039,
          -122.112,
          -122.358,
          -122.337,
          -122.382,
          -122.343,
          -121.739,
          -122.277,
          -122.017,
          -122.226,
          -122.327,
          -122.146,
          -122.159,
          -122.133,
          -122.122,
          -122.34,
          -122.322,
          -122.388,
          -122.179,
          -122.387,
          -122.022,
          -122.116,
          -122.381,
          -121.964,
          -122.196,
          -122.143,
          -122.12,
          -122.383,
          -122.063,
          -122.036,
          -122.036,
          -122.061,
          -122.192,
          -122.397,
          -122.017,
          -122.236,
          -122.147,
          -122.274,
          -122.207,
          -122.057,
          -122.386,
          -122.12,
          -122.115,
          -122.033,
          -122.408,
          -122.216,
          -122.348,
          -122.361,
          -122.297,
          -122.065,
          -122.294,
          -122.327,
          -122.012,
          -122.014,
          -122.269,
          -122.19,
          -122.302,
          -122.279,
          -122.119,
          -122.374,
          -122.232,
          -122.081,
          -122.118,
          -122.2,
          -122.324,
          -122.192,
          -122.227,
          -122.308,
          -122.282,
          -122.129,
          -122.296,
          -122.071,
          -122.201,
          -122.148,
          -121.993,
          -122.134,
          -121.95,
          -122.21,
          -122.289,
          -122.023,
          -121.959,
          -122.025,
          -122.385,
          -122.385,
          -122.387,
          -122.393,
          -122.38,
          -122.236,
          -122.086,
          -122.407,
          -122.21,
          -121.976,
          -122.361,
          -122.383,
          -122.153,
          -121.899,
          -122.239,
          -122.107,
          -122.277,
          -122.076,
          -122.3,
          -122.214,
          -121.992,
          -122.356,
          -121.978,
          -122.035,
          -122.294,
          -122.103,
          -122.305,
          -122.153,
          -122.082,
          -122.048,
          -122.011,
          -122.348,
          -122.281,
          -122.169,
          -122.06,
          -122.21,
          -122.151,
          -122.29,
          -122.381,
          -122.117,
          -122.222,
          -122.142,
          -121.795,
          -122.117,
          -122.099,
          -122.208,
          -121.87,
          -122.356,
          -122.009,
          -122.285,
          -122.4,
          -122.052,
          -122.061,
          -122.147,
          -122.127,
          -122.024,
          -122.375,
          -121.856,
          -122.451,
          -122.323,
          -121.861,
          -122.384,
          -121.985,
          -122.399,
          -122.339,
          -122.147,
          -122.204,
          -122.068,
          -122.373,
          -122.288,
          -122.21,
          -122.02,
          -122.302,
          -122.28,
          -122.192,
          -122.039,
          -121.977,
          -122.178,
          -121.982,
          -122.294,
          -122.403,
          -122.068,
          -122.13,
          -121.955,
          -122.219,
          -122.303,
          -122.284,
          -122.139,
          -122.401,
          -122.058,
          -122.111,
          -122.202,
          -122.215,
          -121.981,
          -122.176,
          -122.287,
          -122.408,
          -122.357,
          -122.114,
          -122.287,
          -122.263,
          -122.357,
          -122.184,
          -122.154,
          -122.173,
          -122.106,
          -122.288,
          -122.273,
          -122.073,
          -121.957,
          -122.276,
          -122.369,
          -122.059,
          -122.408,
          -122.19,
          -122.178,
          -122.38,
          -122.279,
          -121.992,
          -122.019,
          -122.301,
          -122.02,
          -122.08,
          -122.404,
          -122.156,
          -122.326,
          -122.219,
          -122.056,
          -122.047,
          -122.071,
          -122.197,
          -122.169,
          -122.14,
          -122.339,
          -122.154,
          -122.281,
          -122.002,
          -122.236,
          -122.301,
          -122.127,
          -122.363,
          -122.217,
          -122.278,
          -122.12,
          -122.391,
          -122.397,
          -122.151,
          -122.272,
          -122.28,
          -122.383,
          -122.321,
          -122.049,
          -122.061,
          -122.139,
          -121.939,
          -122.293,
          -122.206,
          -122.117,
          -122.359
         ],
         "marker": {
          "color": "#72B7B2",
          "size": [
           0.00010482180293501048,
           0.00007944704854214666,
           0.00007799703611262772,
           0.00020161290322580645,
           0.00009211495946941784,
           0.0002,
           0.0001180776951233912,
           0.0000641025641025641,
           0.00009765625,
           0.0001388888888888889,
           0.00009615384615384615,
           0.00025,
           0.00010548523206751055,
           0.000033025099075297225,
           0.0000980392156862745,
           0.00016025641025641026,
           0.00022222222222222223,
           0.000026391491383178063,
           0.000012240201718524322,
           0.0002,
           0.0002358490566037736,
           0.00014005602240896358,
           0.00006646284726837697,
           0.000008728897889352491,
           0.0001389854065323141,
           0.0001549666821633349,
           0.00007377351530800442,
           0.00022222222222222223,
           0.00009411764705882353,
           0.0001718213058419244,
           0.00010619093129446746,
           0.000030111412225233363,
           0.00022222222222222223,
           0.00013333333333333334,
           0.00015384615384615385,
           0.00010578652279699566,
           0.00025,
           0.00012297097884899163,
           0.00009686168151879117,
           0.00012335019119279634,
           0.000034548281223009156,
           0.0001232589670898558,
           0.0000155115716324378,
           0.00017972681524083394,
           0.00015151515151515152,
           0.00015276504735716468,
           0.00011574074074074075,
           0.00001851371866553116,
           0.00007335142668524903,
           0.00013574046423238766,
           0.00014467592592592592,
           0.00014874312063067083,
           0.00008703220191470844,
           0.00002250680830951363,
           0.00011904761904761905,
           0.0001050420168067227,
           0.0000724112961622013,
           0.00009211495946941784,
           0.00007499062617172853,
           0.00009992006394884092,
           0.00014814814814814815,
           0.00012658227848101267,
           0.0000871839581517001,
           0.00031746031746031746,
           0.0010235414534288639,
           0.00026737967914438503,
           0.000028252578047746855,
           0.0002232142857142857,
           0.00026143790849673205,
           0.00025,
           0.00016977928692699492,
           0.00016702856188408218,
           0.00009893153937475267,
           0.0008271298593879239,
           0.0002777777777777778,
           0.00010721561059290233,
           0.00012626262626262626,
           0.00007421150278293135,
           0.00006434178355424013,
           0.0000979431929480901,
           0.00010541851149061775,
           0.00024509803921568627,
           0.00010955302366345311,
           0.0000492029128124385,
           0.0005966587112171838,
           0.00012195121951219512,
           0.00018385732671446958,
           0.0001719986240110079,
           0.000026170474470702153,
           0.00011799410029498526,
           0.0000526066600031564,
           0.00007219695328857122,
           0.00009979044007584074,
           0.00000473334690226112,
           0.00010256410256410256,
           0.00025,
           0.00013154433043935807,
           0.00004228329809725158,
           0.00011630611770179111,
           0.0003846153846153846,
           0.00012174336498660823,
           0.000196078431372549,
           0.00011111111111111112,
           0.00010212418300653595,
           0.0000823045267489712,
           0.00022512381809995497,
           0.0001960015680125441,
           0.00012836970474967908,
           0.00015467904098994585,
           0.0010235414534288639,
           0.00015151515151515152,
           0.00005100999795960008,
           0.000002550760126517702,
           0.00004892367906066536,
           0.00013392259274139549,
           0.00016129032258064516,
           0.000171939477303989,
           0.00025,
           0.000036636746656896867,
           0.0002,
           0.0002,
           0.00017857142857142857,
           0.000026886056890896382,
           0.00022727272727272727,
           0.00010256410256410256,
           0.00019342359767891682,
           0.0001162655505173817,
           0.000028570612268220908,
           0.00002783499415465123,
           0.00010095911155981827,
           0.00025,
           0.00025,
           0.0000975609756097561,
           0.00013873473917869035,
           0.00017325017325017325,
           0.00009481369109699441,
           0.00025,
           0.0002,
           0.00002671582378242633,
           0.00006219679064560268,
           0.00016059097478721696,
           0.0000094863159891856,
           0.00009775171065493646,
           0.00010224948875255624,
           0.00010656436487638534,
           0.00007804573480059315,
           0.0002777777777777778,
           0.00001605368351768313,
           0.00010726161106939826,
           0.00021934634788330776,
           0.0001375137513751375,
           0.00014511681903932666,
           0.00008296001327360213,
           0.00012017786323759164,
           0.00016526194017517766,
           0.00045004500450045,
           0.00006860122110173561,
           0.00001379063064553942,
           0.00023668639053254438,
           0.00013444474321054048,
           0.000225022502250225,
           0.00009962143853357243,
           0.00013164823591363875,
           0.0001999600079984003,
           0.00012827090815802975,
           0.00009257544899092761,
           0.00014267370523612499,
           0.00023255813953488373,
           0.00025,
           0.00004772586264496731,
           0.00015151515151515152,
           0.0002380952380952381,
           0.00015082956259426848,
           0.0000461403589719928,
           0.0001921598770176787,
           0.0001369487811558477,
           0.0000963020030816641,
           0.00008667013347200555,
           0.00014005602240896358,
           0.00016666666666666666,
           0.00004494988088281566,
           0.00006451612903225807,
           0.000008090614886731391,
           0.00009876543209876543,
           0.00024509803921568627,
           0.00013354700854700856,
           0.000004591579044033243,
           0.00019908421262193908,
           0.00008333333333333333,
           0.00005324246619103397,
           0.00046189376443418013,
           0.000105977108944468,
           0.00009791442279447762,
           0.00007142857142857143,
           0.0001219958521410272,
           0.00015267175572519084,
           0.0002777777777777778,
           0.00007285443683520327,
           0.00024509803921568627,
           0.00010768899418479432,
           0.00026041666666666666,
           0.00009253261774775608,
           0.00009659969088098918,
           0.000021800741225201658,
           0.00002785980943890344,
           0.0002,
           0.00010752688172043011,
           0.00005332764505119454,
           0.000005352001113216231,
           0.00019308746862328635,
           0.0000801667468334135,
           0.00012078753472641623,
           0.0001543924656476764,
           0.00010555203715431708,
           0.0000992358836955443,
           0.00003787878787878788,
           0.00013831258644536652,
           0.00013283740701381508,
           0.00011655011655011655,
           0.00023529411764705883,
           0.000014348025711662075,
           0.00019319938176197836,
           0.00019409937888198756,
           0.00002664890073284477,
           0.00024509803921568627,
           0.00004555808656036447,
           0.0001818181818181818,
           0.00002943254061690605,
           0.00016989466530750936,
           0.00010430791697089809,
           0.00013802622498274673,
           0.00010429703796412182,
           0.0002506265664160401,
           0.00009126585744273067,
           0.0001303780964797914,
           0.000017967191907576763,
           0.00013605442176870748,
           0.00021910604732690623,
           0.0000819672131147541,
           0.0002777777777777778,
           0.0000765579543714592,
           0.0002,
           0.000028063873375803328,
           0.00017391304347826088,
           0.00016326530612244898,
           0.00010406910188365075,
           0.00016471750947125678,
           0.000042720437457279566,
           0.00015723270440251572,
           0.00025,
           0.00010854227721697601,
           0.00015096618357487922,
           0.00002609262883235486,
           0.000007633179906417215,
           0.00020193861066235866,
           0.000029459419649432907,
           0.0000980392156862745,
           0.00022727272727272727
          ],
          "sizemode": "area",
          "sizeref": 0.0000047180938900684126
         },
         "mode": "markers",
         "name": "very high",
         "showlegend": true,
         "subplot": "mapbox",
         "type": "scattermapbox"
        }
       ],
       "layout": {
        "annotations": [
         {
          "showarrow": false,
          "text": "The size of the marker decrease with the size of the object!",
          "x": 0.01,
          "xref": "paper",
          "y": 0.01,
          "yref": "paper"
         }
        ],
        "height": 600,
        "legend": {
         "itemsizing": "constant",
         "title": {
          "text": "Price Ranges"
         },
         "tracegroupgap": 0,
         "x": 0.01,
         "xanchor": "left",
         "y": 0.99,
         "yanchor": "top"
        },
        "mapbox": {
         "center": {
          "lat": 47.55911139999999,
          "lon": -122.21088200000001
         },
         "domain": {
          "x": [
           0,
           1
          ],
          "y": [
           0,
           1
          ]
         },
         "style": "open-street-map",
         "zoom": 8
        },
        "template": {
         "data": {
          "bar": [
           {
            "error_x": {
             "color": "#2a3f5f"
            },
            "error_y": {
             "color": "#2a3f5f"
            },
            "marker": {
             "line": {
              "color": "#E5ECF6",
              "width": 0.5
             },
             "pattern": {
              "fillmode": "overlay",
              "size": 10,
              "solidity": 0.2
             }
            },
            "type": "bar"
           }
          ],
          "barpolar": [
           {
            "marker": {
             "line": {
              "color": "#E5ECF6",
              "width": 0.5
             },
             "pattern": {
              "fillmode": "overlay",
              "size": 10,
              "solidity": 0.2
             }
            },
            "type": "barpolar"
           }
          ],
          "carpet": [
           {
            "aaxis": {
             "endlinecolor": "#2a3f5f",
             "gridcolor": "white",
             "linecolor": "white",
             "minorgridcolor": "white",
             "startlinecolor": "#2a3f5f"
            },
            "baxis": {
             "endlinecolor": "#2a3f5f",
             "gridcolor": "white",
             "linecolor": "white",
             "minorgridcolor": "white",
             "startlinecolor": "#2a3f5f"
            },
            "type": "carpet"
           }
          ],
          "choropleth": [
           {
            "colorbar": {
             "outlinewidth": 0,
             "ticks": ""
            },
            "type": "choropleth"
           }
          ],
          "contour": [
           {
            "colorbar": {
             "outlinewidth": 0,
             "ticks": ""
            },
            "colorscale": [
             [
              0,
              "#0d0887"
             ],
             [
              0.1111111111111111,
              "#46039f"
             ],
             [
              0.2222222222222222,
              "#7201a8"
             ],
             [
              0.3333333333333333,
              "#9c179e"
             ],
             [
              0.4444444444444444,
              "#bd3786"
             ],
             [
              0.5555555555555556,
              "#d8576b"
             ],
             [
              0.6666666666666666,
              "#ed7953"
             ],
             [
              0.7777777777777778,
              "#fb9f3a"
             ],
             [
              0.8888888888888888,
              "#fdca26"
             ],
             [
              1,
              "#f0f921"
             ]
            ],
            "type": "contour"
           }
          ],
          "contourcarpet": [
           {
            "colorbar": {
             "outlinewidth": 0,
             "ticks": ""
            },
            "type": "contourcarpet"
           }
          ],
          "heatmap": [
           {
            "colorbar": {
             "outlinewidth": 0,
             "ticks": ""
            },
            "colorscale": [
             [
              0,
              "#0d0887"
             ],
             [
              0.1111111111111111,
              "#46039f"
             ],
             [
              0.2222222222222222,
              "#7201a8"
             ],
             [
              0.3333333333333333,
              "#9c179e"
             ],
             [
              0.4444444444444444,
              "#bd3786"
             ],
             [
              0.5555555555555556,
              "#d8576b"
             ],
             [
              0.6666666666666666,
              "#ed7953"
             ],
             [
              0.7777777777777778,
              "#fb9f3a"
             ],
             [
              0.8888888888888888,
              "#fdca26"
             ],
             [
              1,
              "#f0f921"
             ]
            ],
            "type": "heatmap"
           }
          ],
          "heatmapgl": [
           {
            "colorbar": {
             "outlinewidth": 0,
             "ticks": ""
            },
            "colorscale": [
             [
              0,
              "#0d0887"
             ],
             [
              0.1111111111111111,
              "#46039f"
             ],
             [
              0.2222222222222222,
              "#7201a8"
             ],
             [
              0.3333333333333333,
              "#9c179e"
             ],
             [
              0.4444444444444444,
              "#bd3786"
             ],
             [
              0.5555555555555556,
              "#d8576b"
             ],
             [
              0.6666666666666666,
              "#ed7953"
             ],
             [
              0.7777777777777778,
              "#fb9f3a"
             ],
             [
              0.8888888888888888,
              "#fdca26"
             ],
             [
              1,
              "#f0f921"
             ]
            ],
            "type": "heatmapgl"
           }
          ],
          "histogram": [
           {
            "marker": {
             "pattern": {
              "fillmode": "overlay",
              "size": 10,
              "solidity": 0.2
             }
            },
            "type": "histogram"
           }
          ],
          "histogram2d": [
           {
            "colorbar": {
             "outlinewidth": 0,
             "ticks": ""
            },
            "colorscale": [
             [
              0,
              "#0d0887"
             ],
             [
              0.1111111111111111,
              "#46039f"
             ],
             [
              0.2222222222222222,
              "#7201a8"
             ],
             [
              0.3333333333333333,
              "#9c179e"
             ],
             [
              0.4444444444444444,
              "#bd3786"
             ],
             [
              0.5555555555555556,
              "#d8576b"
             ],
             [
              0.6666666666666666,
              "#ed7953"
             ],
             [
              0.7777777777777778,
              "#fb9f3a"
             ],
             [
              0.8888888888888888,
              "#fdca26"
             ],
             [
              1,
              "#f0f921"
             ]
            ],
            "type": "histogram2d"
           }
          ],
          "histogram2dcontour": [
           {
            "colorbar": {
             "outlinewidth": 0,
             "ticks": ""
            },
            "colorscale": [
             [
              0,
              "#0d0887"
             ],
             [
              0.1111111111111111,
              "#46039f"
             ],
             [
              0.2222222222222222,
              "#7201a8"
             ],
             [
              0.3333333333333333,
              "#9c179e"
             ],
             [
              0.4444444444444444,
              "#bd3786"
             ],
             [
              0.5555555555555556,
              "#d8576b"
             ],
             [
              0.6666666666666666,
              "#ed7953"
             ],
             [
              0.7777777777777778,
              "#fb9f3a"
             ],
             [
              0.8888888888888888,
              "#fdca26"
             ],
             [
              1,
              "#f0f921"
             ]
            ],
            "type": "histogram2dcontour"
           }
          ],
          "mesh3d": [
           {
            "colorbar": {
             "outlinewidth": 0,
             "ticks": ""
            },
            "type": "mesh3d"
           }
          ],
          "parcoords": [
           {
            "line": {
             "colorbar": {
              "outlinewidth": 0,
              "ticks": ""
             }
            },
            "type": "parcoords"
           }
          ],
          "pie": [
           {
            "automargin": true,
            "type": "pie"
           }
          ],
          "scatter": [
           {
            "fillpattern": {
             "fillmode": "overlay",
             "size": 10,
             "solidity": 0.2
            },
            "type": "scatter"
           }
          ],
          "scatter3d": [
           {
            "line": {
             "colorbar": {
              "outlinewidth": 0,
              "ticks": ""
             }
            },
            "marker": {
             "colorbar": {
              "outlinewidth": 0,
              "ticks": ""
             }
            },
            "type": "scatter3d"
           }
          ],
          "scattercarpet": [
           {
            "marker": {
             "colorbar": {
              "outlinewidth": 0,
              "ticks": ""
             }
            },
            "type": "scattercarpet"
           }
          ],
          "scattergeo": [
           {
            "marker": {
             "colorbar": {
              "outlinewidth": 0,
              "ticks": ""
             }
            },
            "type": "scattergeo"
           }
          ],
          "scattergl": [
           {
            "marker": {
             "colorbar": {
              "outlinewidth": 0,
              "ticks": ""
             }
            },
            "type": "scattergl"
           }
          ],
          "scattermapbox": [
           {
            "marker": {
             "colorbar": {
              "outlinewidth": 0,
              "ticks": ""
             }
            },
            "type": "scattermapbox"
           }
          ],
          "scatterpolar": [
           {
            "marker": {
             "colorbar": {
              "outlinewidth": 0,
              "ticks": ""
             }
            },
            "type": "scatterpolar"
           }
          ],
          "scatterpolargl": [
           {
            "marker": {
             "colorbar": {
              "outlinewidth": 0,
              "ticks": ""
             }
            },
            "type": "scatterpolargl"
           }
          ],
          "scatterternary": [
           {
            "marker": {
             "colorbar": {
              "outlinewidth": 0,
              "ticks": ""
             }
            },
            "type": "scatterternary"
           }
          ],
          "surface": [
           {
            "colorbar": {
             "outlinewidth": 0,
             "ticks": ""
            },
            "colorscale": [
             [
              0,
              "#0d0887"
             ],
             [
              0.1111111111111111,
              "#46039f"
             ],
             [
              0.2222222222222222,
              "#7201a8"
             ],
             [
              0.3333333333333333,
              "#9c179e"
             ],
             [
              0.4444444444444444,
              "#bd3786"
             ],
             [
              0.5555555555555556,
              "#d8576b"
             ],
             [
              0.6666666666666666,
              "#ed7953"
             ],
             [
              0.7777777777777778,
              "#fb9f3a"
             ],
             [
              0.8888888888888888,
              "#fdca26"
             ],
             [
              1,
              "#f0f921"
             ]
            ],
            "type": "surface"
           }
          ],
          "table": [
           {
            "cells": {
             "fill": {
              "color": "#EBF0F8"
             },
             "line": {
              "color": "white"
             }
            },
            "header": {
             "fill": {
              "color": "#C8D4E3"
             },
             "line": {
              "color": "white"
             }
            },
            "type": "table"
           }
          ]
         },
         "layout": {
          "annotationdefaults": {
           "arrowcolor": "#2a3f5f",
           "arrowhead": 0,
           "arrowwidth": 1
          },
          "autotypenumbers": "strict",
          "coloraxis": {
           "colorbar": {
            "outlinewidth": 0,
            "ticks": ""
           }
          },
          "colorscale": {
           "diverging": [
            [
             0,
             "#8e0152"
            ],
            [
             0.1,
             "#c51b7d"
            ],
            [
             0.2,
             "#de77ae"
            ],
            [
             0.3,
             "#f1b6da"
            ],
            [
             0.4,
             "#fde0ef"
            ],
            [
             0.5,
             "#f7f7f7"
            ],
            [
             0.6,
             "#e6f5d0"
            ],
            [
             0.7,
             "#b8e186"
            ],
            [
             0.8,
             "#7fbc41"
            ],
            [
             0.9,
             "#4d9221"
            ],
            [
             1,
             "#276419"
            ]
           ],
           "sequential": [
            [
             0,
             "#0d0887"
            ],
            [
             0.1111111111111111,
             "#46039f"
            ],
            [
             0.2222222222222222,
             "#7201a8"
            ],
            [
             0.3333333333333333,
             "#9c179e"
            ],
            [
             0.4444444444444444,
             "#bd3786"
            ],
            [
             0.5555555555555556,
             "#d8576b"
            ],
            [
             0.6666666666666666,
             "#ed7953"
            ],
            [
             0.7777777777777778,
             "#fb9f3a"
            ],
            [
             0.8888888888888888,
             "#fdca26"
            ],
            [
             1,
             "#f0f921"
            ]
           ],
           "sequentialminus": [
            [
             0,
             "#0d0887"
            ],
            [
             0.1111111111111111,
             "#46039f"
            ],
            [
             0.2222222222222222,
             "#7201a8"
            ],
            [
             0.3333333333333333,
             "#9c179e"
            ],
            [
             0.4444444444444444,
             "#bd3786"
            ],
            [
             0.5555555555555556,
             "#d8576b"
            ],
            [
             0.6666666666666666,
             "#ed7953"
            ],
            [
             0.7777777777777778,
             "#fb9f3a"
            ],
            [
             0.8888888888888888,
             "#fdca26"
            ],
            [
             1,
             "#f0f921"
            ]
           ]
          },
          "colorway": [
           "#636efa",
           "#EF553B",
           "#00cc96",
           "#ab63fa",
           "#FFA15A",
           "#19d3f3",
           "#FF6692",
           "#B6E880",
           "#FF97FF",
           "#FECB52"
          ],
          "font": {
           "color": "#2a3f5f"
          },
          "geo": {
           "bgcolor": "white",
           "lakecolor": "white",
           "landcolor": "#E5ECF6",
           "showlakes": true,
           "showland": true,
           "subunitcolor": "white"
          },
          "hoverlabel": {
           "align": "left"
          },
          "hovermode": "closest",
          "mapbox": {
           "style": "light"
          },
          "paper_bgcolor": "white",
          "plot_bgcolor": "#E5ECF6",
          "polar": {
           "angularaxis": {
            "gridcolor": "white",
            "linecolor": "white",
            "ticks": ""
           },
           "bgcolor": "#E5ECF6",
           "radialaxis": {
            "gridcolor": "white",
            "linecolor": "white",
            "ticks": ""
           }
          },
          "scene": {
           "xaxis": {
            "backgroundcolor": "#E5ECF6",
            "gridcolor": "white",
            "gridwidth": 2,
            "linecolor": "white",
            "showbackground": true,
            "ticks": "",
            "zerolinecolor": "white"
           },
           "yaxis": {
            "backgroundcolor": "#E5ECF6",
            "gridcolor": "white",
            "gridwidth": 2,
            "linecolor": "white",
            "showbackground": true,
            "ticks": "",
            "zerolinecolor": "white"
           },
           "zaxis": {
            "backgroundcolor": "#E5ECF6",
            "gridcolor": "white",
            "gridwidth": 2,
            "linecolor": "white",
            "showbackground": true,
            "ticks": "",
            "zerolinecolor": "white"
           }
          },
          "shapedefaults": {
           "line": {
            "color": "#2a3f5f"
           }
          },
          "ternary": {
           "aaxis": {
            "gridcolor": "white",
            "linecolor": "white",
            "ticks": ""
           },
           "baxis": {
            "gridcolor": "white",
            "linecolor": "white",
            "ticks": ""
           },
           "bgcolor": "#E5ECF6",
           "caxis": {
            "gridcolor": "white",
            "linecolor": "white",
            "ticks": ""
           }
          },
          "title": {
           "x": 0.05
          },
          "xaxis": {
           "automargin": true,
           "gridcolor": "white",
           "linecolor": "white",
           "ticks": "",
           "title": {
            "standoff": 15
           },
           "zerolinecolor": "white",
           "zerolinewidth": 2
          },
          "yaxis": {
           "automargin": true,
           "gridcolor": "white",
           "linecolor": "white",
           "ticks": "",
           "title": {
            "standoff": 15
           },
           "zerolinecolor": "white",
           "zerolinewidth": 2
          }
         }
        },
        "title": {
         "text": "Map of sold real estate objects in King County - [1000 objects] "
        },
        "width": 900
       }
      }
     },
     "metadata": {},
     "output_type": "display_data"
    }
   ],
   "source": [
    "# create inverse for better visualization\n",
    "df_subset['inverse sqft_lot15'] = 1 / df_subset.sqft_lot15\n",
    "\n",
    "\n",
    "# create a map of area, where houses from data set located\n",
    "fig = px.scatter_mapbox(df_subset.sample(1000).sort_values('price_ranges'), #our data set but sampled to 2000 entries and ordered by price range\n",
    "                        lat=\"lat\", lon=\"long\", #location\n",
    "                        size=\"inverse sqft_lot15\", #select a column for ranking\n",
    "                        hover_name=\"id\", # see id\n",
    "                        hover_data=[\"price\", \"sqft_lot15\", 'zipcode'], # display price, size and zipcode\n",
    "                        color = 'price_ranges', # set color depending on type of price\n",
    "\n",
    "                        size_max=15, \n",
    "                        color_discrete_sequence=px.colors.qualitative.T10,  # change colour of sequence for visualization\n",
    "                        zoom=8, # set zoom\n",
    "                        width=900, height=600, #map size\n",
    "                        title =  'Map of sold real estate objects in King County - [1000 objects] ', # add title\n",
    "                        mapbox_style='open-street-map' # set background map to open street\n",
    "                        ) \n",
    "#style of map\n",
    "\n",
    "# Update legend title and position\n",
    "fig.update_layout(legend=dict(\n",
    "    title='Price Ranges',\n",
    "    yanchor=\"top\",\n",
    "    y=0.99,\n",
    "    xanchor=\"left\",\n",
    "    x=0.01\n",
    "))\n",
    "\n",
    "# Add information about size correlation to the map\n",
    "fig.add_annotation(text=\"The size of the marker decrease with the size of the object!\",\n",
    "                  xref=\"paper\", yref=\"paper\",\n",
    "                  x=0.01, y=0.01, showarrow=False)\n",
    "\n",
    "# Display plot\n",
    "fig.show(config={'scrollZoom': False})\n"
   ]
  },
  {
   "cell_type": "markdown",
   "metadata": {},
   "source": [
    "Map description: \n",
    "\n",
    "<font color='crimson'>\n",
    "The size of the marker are bigger in high populated areas than in the outskirts. This means the size of the neighboring objects are smaller in high populated areas. This is because space is more expensive in city centers or highly populated regions due to the lack of space. Therefore, the objects are smaller than in the suburbs or the countryside. At the same time, expensive and very expensive objects are dominant in the urban core of Seattle. In addition to the city centers, there are other clusters of very expensive properties in Bellevue and Mercer Island. In addition, low-cost properties are located north and south of the urban core of Seattle. In smaller cities like Enumclaw, Maple Valley the price do not increase to the city center. A gradient from the south to the north can be seen.\n",
    " </font>\n",
    "</br>\n",
    "\n",
    "Intervals for centrality of neighborhood:\n",
    "\n",
    "| for centrality of neighborhood    | land lots in square footage |\n",
    "| ----------- | ----------- |\n",
    "| central       | 0 - 5000   |\n",
    "| suburbs   | 5000 - 12000      |\n",
    "| countryside   | > 12000   |\n",
    "\n"
   ]
  },
  {
   "cell_type": "markdown",
   "metadata": {},
   "source": [
    "#### Conclusion - Insight 2: Lively Neighborhood\n",
    "\n",
    "Based on the data, I reach the following conclusions:\n",
    "\n",
    "<b> There is no clear correlation between distance to the city center and property size or cost. But is an object closer to a center it tends to be of higher price and smaller size. Inside a city can be multiple centers, which varies in size of area. In smaller cities this rule does not apply. \n",
    "</b>\n",
    "\n",
    "</br>\n",
    "</br>\n",
    "</br>"
   ]
  },
  {
   "cell_type": "markdown",
   "metadata": {},
   "source": [
    "### Insight 3: Centrality / Price and Condition\n",
    "\n",
    "The last question is a combination of the later ones. \n",
    "\n",
    "*How does the centrality and the price range affect the condition of the objects?*\n",
    "\n",
    "---\n",
    "\n",
    "Hypothesis 3.1: <b> The closer an object is to the city center, the smaller the size. </b>\n",
    "\n",
    "Hypothesis 3.2: <b> The closer an object is to the city center, the higher the price. </b>"
   ]
  },
  {
   "cell_type": "code",
   "execution_count": 204,
   "metadata": {},
   "outputs": [
    {
     "data": {
      "text/html": [
       "<div>\n",
       "<style scoped>\n",
       "    .dataframe tbody tr th:only-of-type {\n",
       "        vertical-align: middle;\n",
       "    }\n",
       "\n",
       "    .dataframe tbody tr th {\n",
       "        vertical-align: top;\n",
       "    }\n",
       "\n",
       "    .dataframe thead tr th {\n",
       "        text-align: left;\n",
       "    }\n",
       "\n",
       "    .dataframe thead tr:last-of-type th {\n",
       "        text-align: right;\n",
       "    }\n",
       "</style>\n",
       "<table border=\"1\" class=\"dataframe\">\n",
       "  <thead>\n",
       "    <tr>\n",
       "      <th></th>\n",
       "      <th colspan=\"4\" halign=\"left\">mean</th>\n",
       "    </tr>\n",
       "    <tr>\n",
       "      <th></th>\n",
       "      <th colspan=\"4\" halign=\"left\">condition</th>\n",
       "    </tr>\n",
       "    <tr>\n",
       "      <th>price_ranges</th>\n",
       "      <th>low</th>\n",
       "      <th>middle</th>\n",
       "      <th>high</th>\n",
       "      <th>very high</th>\n",
       "    </tr>\n",
       "    <tr>\n",
       "      <th>centrality_neighbors</th>\n",
       "      <th></th>\n",
       "      <th></th>\n",
       "      <th></th>\n",
       "      <th></th>\n",
       "    </tr>\n",
       "  </thead>\n",
       "  <tbody>\n",
       "    <tr>\n",
       "      <th>central</th>\n",
       "      <td>3.164450</td>\n",
       "      <td>3.183813</td>\n",
       "      <td>3.338758</td>\n",
       "      <td>3.542048</td>\n",
       "    </tr>\n",
       "    <tr>\n",
       "      <th>suburb</th>\n",
       "      <td>3.448633</td>\n",
       "      <td>3.421053</td>\n",
       "      <td>3.435478</td>\n",
       "      <td>3.456874</td>\n",
       "    </tr>\n",
       "    <tr>\n",
       "      <th>countryside</th>\n",
       "      <td>3.505769</td>\n",
       "      <td>3.464286</td>\n",
       "      <td>3.427979</td>\n",
       "      <td>3.407261</td>\n",
       "    </tr>\n",
       "  </tbody>\n",
       "</table>\n",
       "</div>"
      ],
      "text/plain": [
       "                          mean                              \n",
       "                     condition                              \n",
       "price_ranges               low    middle      high very high\n",
       "centrality_neighbors                                        \n",
       "central               3.164450  3.183813  3.338758  3.542048\n",
       "suburb                3.448633  3.421053  3.435478  3.456874\n",
       "countryside           3.505769  3.464286  3.427979  3.407261"
      ]
     },
     "execution_count": 204,
     "metadata": {},
     "output_type": "execute_result"
    }
   ],
   "source": [
    "# create new column with group of prices\n",
    "df_subset['centrality_neighbors'] = pd.cut(df_subset.sqft_lot15,  labels=['central', 'suburb', 'countryside'], bins= [0,5000, 12000, df_subset.sqft_lot15.max()])\n",
    "\n",
    "# groupby with pivot table\n",
    "pivot_df = pd.pivot_table(df_subset[['centrality_neighbors', 'price_ranges', 'condition']], index=['centrality_neighbors'], columns='price_ranges', aggfunc=[np.mean])\n",
    "\n",
    "pivot_df"
   ]
  },
  {
   "cell_type": "code",
   "execution_count": 203,
   "metadata": {},
   "outputs": [
    {
     "name": "stderr",
     "output_type": "stream",
     "text": [
      "No artists with labels found to put in legend.  Note that artists whose label start with an underscore are ignored when legend() is called with no argument.\n"
     ]
    },
    {
     "data": {
      "text/plain": [
       "<matplotlib.legend.Legend at 0x29036ea90>"
      ]
     },
     "execution_count": 203,
     "metadata": {},
     "output_type": "execute_result"
    },
    {
     "data": {
      "image/png": "[encoded data removed]",
      "text/plain": [
       "<Figure size 432x288 with 2 Axes>"
      ]
     },
     "metadata": {},
     "output_type": "display_data"
    }
   ],
   "source": [
    "sns.heatmap(pivot_df, cmap ='viridis')\n",
    "plt.ylabel('Programming languages')\n",
    "plt.xlabel('Latest Job Role')\n",
    "plt.title('Heatmap Programming languages vs latest Job Role', fontsize = 18)\n",
    "plt.legend(bbox_to_anchor=(1.35, 0.6), loc='upper right', borderaxespad=0, title = 'Mean')"
   ]
  },
  {
   "cell_type": "code",
   "execution_count": null,
   "metadata": {},
   "outputs": [],
   "source": []
  }
 ],
 "metadata": {
  "interpreter": {
   "hash": "3e2393149790598d0f1b9b1d9965315f61ba654795acaf8a460672c2c6c47415"
  },
  "kernelspec": {
   "display_name": "Python 3.9.8 ('.venv': venv)",
   "language": "python",
   "name": "python3"
  },
  "language_info": {
   "codemirror_mode": {
    "name": "ipython",
    "version": 3
   },
   "file_extension": ".py",
   "mimetype": "text/x-python",
   "name": "python",
   "nbconvert_exporter": "python",
   "pygments_lexer": "ipython3",
   "version": "3.9.8"
  },
  "orig_nbformat": 4
 },
 "nbformat": 4,
 "nbformat_minor": 2
}
